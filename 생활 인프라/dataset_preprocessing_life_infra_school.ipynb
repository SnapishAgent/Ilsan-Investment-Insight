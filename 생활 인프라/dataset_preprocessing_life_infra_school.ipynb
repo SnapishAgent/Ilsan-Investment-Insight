{
 "cells": [
  {
   "cell_type": "markdown",
   "metadata": {},
   "source": [
    "### 필터링 기준 (학교)\n",
    "> 사용 열 :     \"학교명\", \"학교급구분\", \"설립일자\", \"설립형태\", \"운영상태\", \"소재지지번주소\", \"소재지도로명주소\", \"시도교육청명\", \"위도\", \"경도\"\n",
    "- 필터링 (1) : 분당, 일산 단어가 포함된 위치 우선적으로 선택"
   ]
  },
  {
   "cell_type": "code",
   "execution_count": 2,
   "metadata": {},
   "outputs": [],
   "source": [
    "import numpy as np\n",
    "import pandas as pd\n",
    "import os\n",
    "\n",
    "os.chdir(\"/Users/shinjh/Desktop/likelion/mid_project/dataset_life_infra\")"
   ]
  },
  {
   "cell_type": "code",
   "execution_count": 3,
   "metadata": {},
   "outputs": [],
   "source": [
    "data_school = pd.read_csv(\"./전국학교위치표준데이터-20241112.csv\", encoding='utf-8')"
   ]
  },
  {
   "cell_type": "code",
   "execution_count": 8,
   "metadata": {},
   "outputs": [
    {
     "data": {
      "text/html": [
       "<div>\n",
       "<style scoped>\n",
       "    .dataframe tbody tr th:only-of-type {\n",
       "        vertical-align: middle;\n",
       "    }\n",
       "\n",
       "    .dataframe tbody tr th {\n",
       "        vertical-align: top;\n",
       "    }\n",
       "\n",
       "    .dataframe thead th {\n",
       "        text-align: right;\n",
       "    }\n",
       "</style>\n",
       "<table border=\"1\" class=\"dataframe\">\n",
       "  <thead>\n",
       "    <tr style=\"text-align: right;\">\n",
       "      <th></th>\n",
       "      <th>학교명</th>\n",
       "      <th>학교급구분</th>\n",
       "      <th>설립일자</th>\n",
       "      <th>설립형태</th>\n",
       "      <th>운영상태</th>\n",
       "      <th>소재지지번주소</th>\n",
       "      <th>소재지도로명주소</th>\n",
       "      <th>시도교육청명</th>\n",
       "      <th>위도</th>\n",
       "      <th>경도</th>\n",
       "    </tr>\n",
       "  </thead>\n",
       "  <tbody>\n",
       "    <tr>\n",
       "      <th>0</th>\n",
       "      <td>대전용산초등학교</td>\n",
       "      <td>초등학교</td>\n",
       "      <td>2007-09-01</td>\n",
       "      <td>공립</td>\n",
       "      <td>운영</td>\n",
       "      <td>대전광역시 유성구 용산동 662</td>\n",
       "      <td>대전광역시 유성구 배울2로 101</td>\n",
       "      <td>대전광역시교육청</td>\n",
       "      <td>36.420154</td>\n",
       "      <td>127.395076</td>\n",
       "    </tr>\n",
       "    <tr>\n",
       "      <th>1</th>\n",
       "      <td>상당초등학교</td>\n",
       "      <td>초등학교</td>\n",
       "      <td>1997-03-01</td>\n",
       "      <td>공립</td>\n",
       "      <td>운영</td>\n",
       "      <td>부산광역시 해운대구 좌동 1405</td>\n",
       "      <td>부산광역시 해운대구 세실로 173</td>\n",
       "      <td>부산광역시교육청</td>\n",
       "      <td>35.179656</td>\n",
       "      <td>129.176031</td>\n",
       "    </tr>\n",
       "    <tr>\n",
       "      <th>2</th>\n",
       "      <td>미성중학교</td>\n",
       "      <td>중학교</td>\n",
       "      <td>1984-05-17</td>\n",
       "      <td>공립</td>\n",
       "      <td>운영</td>\n",
       "      <td>서울특별시 관악구 신림동 745-24</td>\n",
       "      <td>서울특별시 관악구 문성로16길 40</td>\n",
       "      <td>서울특별시교육청</td>\n",
       "      <td>37.475383</td>\n",
       "      <td>126.912089</td>\n",
       "    </tr>\n",
       "  </tbody>\n",
       "</table>\n",
       "</div>"
      ],
      "text/plain": [
       "        학교명 학교급구분        설립일자 설립형태 운영상태               소재지지번주소  \\\n",
       "0  대전용산초등학교  초등학교  2007-09-01   공립   운영     대전광역시 유성구 용산동 662   \n",
       "1    상당초등학교  초등학교  1997-03-01   공립   운영    부산광역시 해운대구 좌동 1405   \n",
       "2     미성중학교   중학교  1984-05-17   공립   운영  서울특별시 관악구 신림동 745-24   \n",
       "\n",
       "              소재지도로명주소    시도교육청명         위도          경도  \n",
       "0   대전광역시 유성구 배울2로 101  대전광역시교육청  36.420154  127.395076  \n",
       "1   부산광역시 해운대구 세실로 173  부산광역시교육청  35.179656  129.176031  \n",
       "2  서울특별시 관악구 문성로16길 40  서울특별시교육청  37.475383  126.912089  "
      ]
     },
     "execution_count": 8,
     "metadata": {},
     "output_type": "execute_result"
    }
   ],
   "source": [
    "data_school_sort = data_school[[\"학교명\", \"학교급구분\", \"설립일자\", \"설립형태\", \"운영상태\", \"소재지지번주소\", \"소재지도로명주소\", \"시도교육청명\", \"위도\", \"경도\"]]\n",
    "data_school_sort.head(3)"
   ]
  },
  {
   "cell_type": "code",
   "execution_count": 17,
   "metadata": {},
   "outputs": [],
   "source": [
    "ilsan = data_school_sort[\n",
    "    data_school_sort[\"소재지도로명주소\"].combine_first(data_school_sort[\"소재지지번주소\"]).str.contains(\"일산\", na=False)].reset_index(drop=True)"
   ]
  },
  {
   "cell_type": "code",
   "execution_count": 19,
   "metadata": {},
   "outputs": [
    {
     "data": {
      "text/html": [
       "<div>\n",
       "<style scoped>\n",
       "    .dataframe tbody tr th:only-of-type {\n",
       "        vertical-align: middle;\n",
       "    }\n",
       "\n",
       "    .dataframe tbody tr th {\n",
       "        vertical-align: top;\n",
       "    }\n",
       "\n",
       "    .dataframe thead th {\n",
       "        text-align: right;\n",
       "    }\n",
       "</style>\n",
       "<table border=\"1\" class=\"dataframe\">\n",
       "  <thead>\n",
       "    <tr style=\"text-align: right;\">\n",
       "      <th></th>\n",
       "      <th>학교명</th>\n",
       "      <th>학교급구분</th>\n",
       "      <th>설립일자</th>\n",
       "      <th>설립형태</th>\n",
       "      <th>운영상태</th>\n",
       "      <th>소재지지번주소</th>\n",
       "      <th>소재지도로명주소</th>\n",
       "      <th>시도교육청명</th>\n",
       "      <th>위도</th>\n",
       "      <th>경도</th>\n",
       "    </tr>\n",
       "  </thead>\n",
       "  <tbody>\n",
       "    <tr>\n",
       "      <th>0</th>\n",
       "      <td>신일비즈니스고등학교</td>\n",
       "      <td>고등학교</td>\n",
       "      <td>1996-03-01</td>\n",
       "      <td>공립</td>\n",
       "      <td>운영</td>\n",
       "      <td>경기도 고양시 일산서구 일산동 1041</td>\n",
       "      <td>경기도 고양시 일산서구 킨텍스로 452</td>\n",
       "      <td>경기도교육청</td>\n",
       "      <td>37.683058</td>\n",
       "      <td>126.762179</td>\n",
       "    </tr>\n",
       "    <tr>\n",
       "      <th>1</th>\n",
       "      <td>백마고등학교</td>\n",
       "      <td>고등학교</td>\n",
       "      <td>2017-05-04</td>\n",
       "      <td>공립</td>\n",
       "      <td>운영</td>\n",
       "      <td>경기도 고양시 일산동구 백석동 1138</td>\n",
       "      <td>경기도 고양시 일산동구 백석로 155</td>\n",
       "      <td>경기도교육청</td>\n",
       "      <td>37.651982</td>\n",
       "      <td>126.794012</td>\n",
       "    </tr>\n",
       "    <tr>\n",
       "      <th>2</th>\n",
       "      <td>고양예술고등학교</td>\n",
       "      <td>고등학교</td>\n",
       "      <td>2005-10-12</td>\n",
       "      <td>사립</td>\n",
       "      <td>운영</td>\n",
       "      <td>경기도 고양시 일산서구 덕이동 753-11</td>\n",
       "      <td>경기도 고양시 일산서구 덕이로172번길 4-39</td>\n",
       "      <td>경기도교육청</td>\n",
       "      <td>37.697410</td>\n",
       "      <td>126.742303</td>\n",
       "    </tr>\n",
       "    <tr>\n",
       "      <th>3</th>\n",
       "      <td>한류초등학교</td>\n",
       "      <td>초등학교</td>\n",
       "      <td>2019-09-01</td>\n",
       "      <td>공립</td>\n",
       "      <td>운영</td>\n",
       "      <td>경기도 고양시 일산동구 장항동 1779</td>\n",
       "      <td>경기도 고양시 일산동구 한류월드로 262</td>\n",
       "      <td>경기도교육청</td>\n",
       "      <td>37.662268</td>\n",
       "      <td>126.756958</td>\n",
       "    </tr>\n",
       "    <tr>\n",
       "      <th>4</th>\n",
       "      <td>백송고등학교</td>\n",
       "      <td>고등학교</td>\n",
       "      <td>1974-01-05</td>\n",
       "      <td>사립</td>\n",
       "      <td>운영</td>\n",
       "      <td>경기도 고양시 일산서구 덕이동 753-11</td>\n",
       "      <td>경기도 고양시 일산서구 덕이로 172번길 4-39</td>\n",
       "      <td>경기도교육청</td>\n",
       "      <td>37.697410</td>\n",
       "      <td>126.742303</td>\n",
       "    </tr>\n",
       "  </tbody>\n",
       "</table>\n",
       "</div>"
      ],
      "text/plain": [
       "          학교명 학교급구분        설립일자 설립형태 운영상태                  소재지지번주소  \\\n",
       "0  신일비즈니스고등학교  고등학교  1996-03-01   공립   운영    경기도 고양시 일산서구 일산동 1041   \n",
       "1      백마고등학교  고등학교  2017-05-04   공립   운영    경기도 고양시 일산동구 백석동 1138   \n",
       "2    고양예술고등학교  고등학교  2005-10-12   사립   운영  경기도 고양시 일산서구 덕이동 753-11   \n",
       "3      한류초등학교  초등학교  2019-09-01   공립   운영    경기도 고양시 일산동구 장항동 1779   \n",
       "4      백송고등학교  고등학교  1974-01-05   사립   운영  경기도 고양시 일산서구 덕이동 753-11   \n",
       "\n",
       "                      소재지도로명주소  시도교육청명         위도          경도  \n",
       "0        경기도 고양시 일산서구 킨텍스로 452  경기도교육청  37.683058  126.762179  \n",
       "1         경기도 고양시 일산동구 백석로 155  경기도교육청  37.651982  126.794012  \n",
       "2   경기도 고양시 일산서구 덕이로172번길 4-39  경기도교육청  37.697410  126.742303  \n",
       "3       경기도 고양시 일산동구 한류월드로 262  경기도교육청  37.662268  126.756958  \n",
       "4  경기도 고양시 일산서구 덕이로 172번길 4-39  경기도교육청  37.697410  126.742303  "
      ]
     },
     "execution_count": 19,
     "metadata": {},
     "output_type": "execute_result"
    }
   ],
   "source": [
    "ilsan.head()"
   ]
  },
  {
   "cell_type": "code",
   "execution_count": 25,
   "metadata": {},
   "outputs": [
    {
     "data": {
      "text/plain": [
       "학교급구분\n",
       "고등학교    23\n",
       "중학교     23\n",
       "초등학교    50\n",
       "dtype: int64"
      ]
     },
     "execution_count": 25,
     "metadata": {},
     "output_type": "execute_result"
    }
   ],
   "source": [
    "ilsan.groupby(by='학교급구분').size()"
   ]
  },
  {
   "cell_type": "code",
   "execution_count": 20,
   "metadata": {},
   "outputs": [],
   "source": [
    "ilsan.to_csv(\"./dataset_life_infra_일산_학교.csv\", encoding='utf-8')"
   ]
  },
  {
   "cell_type": "code",
   "execution_count": 21,
   "metadata": {},
   "outputs": [],
   "source": [
    "bundang = data_school_sort[\n",
    "    data_school_sort[\"소재지도로명주소\"].combine_first(data_school_sort[\"소재지지번주소\"]).str.contains(\"분당\", na=False)].reset_index(drop=True)"
   ]
  },
  {
   "cell_type": "code",
   "execution_count": 22,
   "metadata": {},
   "outputs": [
    {
     "data": {
      "text/html": [
       "<div>\n",
       "<style scoped>\n",
       "    .dataframe tbody tr th:only-of-type {\n",
       "        vertical-align: middle;\n",
       "    }\n",
       "\n",
       "    .dataframe tbody tr th {\n",
       "        vertical-align: top;\n",
       "    }\n",
       "\n",
       "    .dataframe thead th {\n",
       "        text-align: right;\n",
       "    }\n",
       "</style>\n",
       "<table border=\"1\" class=\"dataframe\">\n",
       "  <thead>\n",
       "    <tr style=\"text-align: right;\">\n",
       "      <th></th>\n",
       "      <th>학교명</th>\n",
       "      <th>학교급구분</th>\n",
       "      <th>설립일자</th>\n",
       "      <th>설립형태</th>\n",
       "      <th>운영상태</th>\n",
       "      <th>소재지지번주소</th>\n",
       "      <th>소재지도로명주소</th>\n",
       "      <th>시도교육청명</th>\n",
       "      <th>위도</th>\n",
       "      <th>경도</th>\n",
       "    </tr>\n",
       "  </thead>\n",
       "  <tbody>\n",
       "    <tr>\n",
       "      <th>0</th>\n",
       "      <td>판교대장초등학교</td>\n",
       "      <td>초등학교</td>\n",
       "      <td>2021-06-01</td>\n",
       "      <td>공립</td>\n",
       "      <td>운영</td>\n",
       "      <td>경기도 성남시 분당구 대장동 155</td>\n",
       "      <td>경기도 성남시 분당구 판교대장로5길 71</td>\n",
       "      <td>경기도교육청</td>\n",
       "      <td>37.368259</td>\n",
       "      <td>127.069717</td>\n",
       "    </tr>\n",
       "    <tr>\n",
       "      <th>1</th>\n",
       "      <td>수내초등학교</td>\n",
       "      <td>초등학교</td>\n",
       "      <td>1993-01-11</td>\n",
       "      <td>공립</td>\n",
       "      <td>운영</td>\n",
       "      <td>경기도 성남시 분당구 수내동 81</td>\n",
       "      <td>경기도 성남시 분당구 백현로243번길 12</td>\n",
       "      <td>경기도교육청</td>\n",
       "      <td>37.367766</td>\n",
       "      <td>127.124663</td>\n",
       "    </tr>\n",
       "    <tr>\n",
       "      <th>2</th>\n",
       "      <td>산운초등학교</td>\n",
       "      <td>초등학교</td>\n",
       "      <td>2009-03-01</td>\n",
       "      <td>공립</td>\n",
       "      <td>운영</td>\n",
       "      <td>경기도 성남시 분당구 운중동 927</td>\n",
       "      <td>경기도 성남시 분당구 판교원로117번길 11</td>\n",
       "      <td>경기도교육청</td>\n",
       "      <td>37.389753</td>\n",
       "      <td>127.079026</td>\n",
       "    </tr>\n",
       "    <tr>\n",
       "      <th>3</th>\n",
       "      <td>서현초등학교</td>\n",
       "      <td>초등학교</td>\n",
       "      <td>1991-09-01</td>\n",
       "      <td>공립</td>\n",
       "      <td>운영</td>\n",
       "      <td>경기도 성남시 분당구 서현동 87-1</td>\n",
       "      <td>경기도 성남시 분당구 중앙공원로39번길 12</td>\n",
       "      <td>경기도교육청</td>\n",
       "      <td>37.382576</td>\n",
       "      <td>127.128550</td>\n",
       "    </tr>\n",
       "    <tr>\n",
       "      <th>4</th>\n",
       "      <td>성남송현초등학교</td>\n",
       "      <td>초등학교</td>\n",
       "      <td>2009-03-01</td>\n",
       "      <td>공립</td>\n",
       "      <td>운영</td>\n",
       "      <td>경기도 성남시 분당구 삼평동 710</td>\n",
       "      <td>경기도 성남시 분당구 동판교로 258</td>\n",
       "      <td>경기도교육청</td>\n",
       "      <td>37.405452</td>\n",
       "      <td>127.116346</td>\n",
       "    </tr>\n",
       "  </tbody>\n",
       "</table>\n",
       "</div>"
      ],
      "text/plain": [
       "        학교명 학교급구분        설립일자 설립형태 운영상태               소재지지번주소  \\\n",
       "0  판교대장초등학교  초등학교  2021-06-01   공립   운영   경기도 성남시 분당구 대장동 155   \n",
       "1    수내초등학교  초등학교  1993-01-11   공립   운영    경기도 성남시 분당구 수내동 81   \n",
       "2    산운초등학교  초등학교  2009-03-01   공립   운영   경기도 성남시 분당구 운중동 927   \n",
       "3    서현초등학교  초등학교  1991-09-01   공립   운영  경기도 성남시 분당구 서현동 87-1   \n",
       "4  성남송현초등학교  초등학교  2009-03-01   공립   운영   경기도 성남시 분당구 삼평동 710   \n",
       "\n",
       "                   소재지도로명주소  시도교육청명         위도          경도  \n",
       "0    경기도 성남시 분당구 판교대장로5길 71  경기도교육청  37.368259  127.069717  \n",
       "1   경기도 성남시 분당구 백현로243번길 12  경기도교육청  37.367766  127.124663  \n",
       "2  경기도 성남시 분당구 판교원로117번길 11  경기도교육청  37.389753  127.079026  \n",
       "3  경기도 성남시 분당구 중앙공원로39번길 12  경기도교육청  37.382576  127.128550  \n",
       "4      경기도 성남시 분당구 동판교로 258  경기도교육청  37.405452  127.116346  "
      ]
     },
     "execution_count": 22,
     "metadata": {},
     "output_type": "execute_result"
    }
   ],
   "source": [
    "bundang.head()"
   ]
  },
  {
   "cell_type": "code",
   "execution_count": 26,
   "metadata": {},
   "outputs": [
    {
     "data": {
      "text/plain": [
       "학교급구분\n",
       "고등학교    24\n",
       "중학교     26\n",
       "초등학교    38\n",
       "dtype: int64"
      ]
     },
     "execution_count": 26,
     "metadata": {},
     "output_type": "execute_result"
    }
   ],
   "source": [
    "bundang.groupby(by='학교급구분').size()"
   ]
  },
  {
   "cell_type": "code",
   "execution_count": 27,
   "metadata": {},
   "outputs": [],
   "source": [
    "bundang.to_csv(\"./dataset_life_infra_분당_학교.csv\", encoding='utf-8')"
   ]
  }
 ],
 "metadata": {
  "kernelspec": {
   "display_name": "tensorflow",
   "language": "python",
   "name": "python3"
  },
  "language_info": {
   "codemirror_mode": {
    "name": "ipython",
    "version": 3
   },
   "file_extension": ".py",
   "mimetype": "text/x-python",
   "name": "python",
   "nbconvert_exporter": "python",
   "pygments_lexer": "ipython3",
   "version": "3.9.19"
  }
 },
 "nbformat": 4,
 "nbformat_minor": 2
}
