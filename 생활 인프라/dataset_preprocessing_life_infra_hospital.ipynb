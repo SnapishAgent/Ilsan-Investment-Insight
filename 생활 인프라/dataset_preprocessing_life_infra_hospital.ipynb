{
 "cells": [
  {
   "cell_type": "markdown",
   "metadata": {},
   "source": [
    "### 필터링 기준 (병원)\n",
    "> 사용 열 : \"상세영업상태명\", \"폐업일자\", \"소재지전체주소\", \"도로명전체주소\", \"사업장명\", \"업태구분명\", \"의료인수\", \"입원실수\", \"병상수\", \"진료과목내용명\"\n",
    "\n",
    "- 필터링 (1) : 분당, 일산 단어가 포함된 위치 우선적으로 선택\n",
    "- 전처리 (1) : 주소 기반 위도, 경도 관련 데이터 Search"
   ]
  },
  {
   "cell_type": "code",
   "execution_count": 1,
   "metadata": {},
   "outputs": [],
   "source": [
    "import pandas as pd\n",
    "import numpy as np\n",
    "import os\n",
    "\n",
    "os.chdir(\"/Users/shinjh/Desktop/likelion/mid_project/dataset_life_infra\")"
   ]
  },
  {
   "cell_type": "code",
   "execution_count": null,
   "metadata": {},
   "outputs": [],
   "source": [
    "## 함수 init (결측 위경도 추가용)\n",
    "import pandas as pd\n",
    "import requests\n",
    "import json\n",
    "import re\n",
    "from tqdm import tqdm\n",
    "from geopy.geocoders import Nominatim\n",
    "\n",
    "geolocator = Nominatim(user_agent=\"cocoa\")\n",
    "\n",
    "# Kakao API로 좌표 검색 함수\n",
    "def get_location_kakao(address_data, kakao_api_key):\n",
    "    url = f'https://dapi.kakao.com/v2/local/search/address.json?query={address_data}'\n",
    "    headers = {\"Authorization\": f\"KakaoAK {kakao_api_key}\"}\n",
    "    response = requests.get(url, headers=headers)\n",
    "    if response.status_code == 200:\n",
    "        api_json = response.json()\n",
    "        if api_json['documents']:\n",
    "            address = api_json['documents'][0]['address']\n",
    "            return float(address['y']), float(address['x'])  # 위도, 경도 반환\n",
    "    return None, None\n",
    "\n",
    "# Nominatim으로 좌표 검색 함수\n",
    "def get_location_nominatim(address_data):\n",
    "    result = clean_address(address_data)\n",
    "    # print(result)\n",
    "    location = geolocator.geocode(result)\n",
    "    if location:\n",
    "        return location.latitude, location.longitude  # 위도, 경도 반환\n",
    "    return None, None\n",
    "\n",
    "def clean_address(address):\n",
    "    # 도로명 기준으로 작동하기에, 첫번째로 나오는 '로' 촥인\n",
    "    # Step 1: '번길'과 괄호 내용 제거\n",
    "    step_1 = re.sub(r'\\s*번길|\\(.*\\)', '', address)\n",
    "\n",
    "    # Step 2: '층' 관련 정보 제거\n",
    "    step_2 = re.sub(r'\\s*[\\d~]+층', '', step_1)\n",
    "\n",
    "    # Step 3: '호' 관련 정보 제거\n",
    "    step_3 = re.sub(r'[\\d~]*호', '', step_2)\n",
    "\n",
    "    # Step 4: 콤마 뒤 내용 제거\n",
    "    cleaned = re.sub(r',.*', '', step_3)\n",
    "\n",
    "    return cleaned\n",
    "\n",
    "# 데이터프레임 업데이트 함수\n",
    "def update_coordinates(df, kakao_api_key):\n",
    "    for idx, row in tqdm(df.iterrows(), total=len(df)):\n",
    "        try:\n",
    "            # 1단계: Kakao API로 '소재지전체주소' 검색 시도\n",
    "            address = row['소재지전체주소']\n",
    "            lat, lon = get_location_kakao(address, kakao_api_key)\n",
    "            \n",
    "            if lat is None or lon is None:\n",
    "                raise ValueError(\"Latitude or Longitude is None in Kakao API (소재지전체주소)\")\n",
    "        \n",
    "        except:\n",
    "            try:\n",
    "                # 2단계: Kakao API로 '도로명전체주소' 검색 시도\n",
    "                address = row['도로명전체주소']\n",
    "                lat, lon = get_location_kakao(address, kakao_api_key)\n",
    "                \n",
    "                if lat is None or lon is None:\n",
    "                    address = row['소재지전체주소']\n",
    "\n",
    "                    # ## 일산 케이스                    \n",
    "                    # # 특이 케이스로 보이는 외*필지, \n",
    "                    # address = re.sub(r'외\\d*필지.*|외 \\d*필지.*', '', address)\n",
    "                    # address = re.sub(r'번지.*', '', address)\n",
    "                    # address = re.sub(r'\\..*', '', address)\n",
    "                    \n",
    "                    # ## 분당 케이스                    \n",
    "                    # # 특이 케이스로 보이는 외*필지, \n",
    "                    # address = re.sub(r'(\\D동)(\\d)', r'\\1 \\2', address)\n",
    "                    # address = re.sub(r'외\\d*필지.*|외 \\d*필지.*', '', address)\n",
    "                    # address = re.sub(r'번지.*', '', address)\n",
    "                    # address = re.sub(r'\\..*', '', address)\n",
    " \n",
    "                    lat, lon = get_location_kakao(address, kakao_api_key)\n",
    "                    \n",
    "                    if lat is None or lon is None:\n",
    "                        lat, lon = get_location_nominatim(address)\n",
    "                \n",
    "                # try쪽에서 아무것도 안될경우,\n",
    "                if lat is None or lon is None:     \n",
    "                    raise ValueError(\"Latitude or Longitude is None in Kakao API (소재지전체주소)\")\n",
    "                        \n",
    "            except:\n",
    "                try:\n",
    "                    # 3단계: Nominatim으로 clean_address('도로명전체주소') 검색 시도\n",
    "                    clean_addr = clean_address(row['도로명전체주소'])\n",
    "                    lat, lon = get_location_nominatim(clean_addr)\n",
    "                    \n",
    "                    if lat is None or lon is None:\n",
    "                        # 4단계: '도로명전체주소'에서 도로명과 숫자를 추출해 검색 시도\n",
    "                        match = re.search(r\"(.*로)(\\d+)\", clean_addr)\n",
    "                        if match:\n",
    "                            road_name = match.group(1)  # 도로명 (예: \"호수로\")\n",
    "                            number = match.group(2)     # 숫자 (예: \"817\")\n",
    "                            formatted_address = f\"{road_name} {number}\"  # 띄어쓰기 추가\n",
    "                            # print(f\"Nominatim with formatted address: {formatted_address}\")\n",
    "                            lat, lon = get_location_nominatim(formatted_address)\n",
    "                            \n",
    "                    if lat is None or lon is None:\n",
    "                        # 4단계: '도로명전체주소'에서 도로명과 숫자를 추출해 검색 시도\n",
    "                        match = re.search(r\"(.*로 \\d+)\", clean_addr)\n",
    "                        if match:\n",
    "                            road_name = match.group(1)  # 도로명 (예: \"호수로\")\n",
    "                            number = match.group(2)     # 숫자 (예: \"817\")\n",
    "                            formatted_address = f\"{road_name} {number}\"  # 띄어쓰기 추가\n",
    "                            # print(f\"Nominatim with formatted address: {formatted_address}\")\n",
    "                            lat, lon = get_location_nominatim(formatted_address)\n",
    "                            \n",
    "                    # try쪽에서 아무것도 안될경우,\n",
    "                    if lat is None or lon is None:     \n",
    "                        raise ValueError(\"Latitude or Longitude is None in Kakao API (소재지전체주소)\")\n",
    "                    \n",
    "                except:\n",
    "                    # 모든 시도가 실패하면 continue\n",
    "                    print(f\"Failed to get location info for: {row['소재지전체주소']} / {row['도로명전체주소']}\")\n",
    "                    continue\n",
    "\n",
    "        # 결과 저장\n",
    "        df.at[idx, '위도'] = lat\n",
    "        df.at[idx, '경도'] = lon           \n",
    "\n",
    "# Kakao API Key 설정\n",
    "kakao_api_key = \"개인KEY\"  # 카카오 API 키를 여기에 입력"
   ]
  },
  {
   "cell_type": "code",
   "execution_count": 102,
   "metadata": {},
   "outputs": [],
   "source": [
    "## 병원\n",
    "data_hospital = pd.read_csv(\"./병원.csv\", encoding='utf-8')\n",
    "data_hospital_sort = data_hospital[[\"상세영업상태명\", \"인허가일자\",\"폐업일자\", \"소재지전체주소\", \"도로명전체주소\", \"사업장명\", \"업태구분명\", \"의료인수\", \"입원실수\", \"병상수\", \"진료과목내용명\"]]"
   ]
  },
  {
   "cell_type": "code",
   "execution_count": 83,
   "metadata": {},
   "outputs": [],
   "source": [
    "data_hospital_sort = data_hospital_sort.copy()\n",
    "data_hospital_sort['위도'] = None\n",
    "data_hospital_sort['경도'] = None"
   ]
  },
  {
   "cell_type": "code",
   "execution_count": null,
   "metadata": {},
   "outputs": [],
   "source": [
    "ilsan = data_hospital_sort[\n",
    "    data_hospital_sort[\"도로명전체주소\"].combine_first(data_hospital_sort[\"소재지전체주소\"]).str.contains(\"고양시 일산\", na=False)\n",
    "].reset_index(drop=True)"
   ]
  },
  {
   "cell_type": "code",
   "execution_count": null,
   "metadata": {},
   "outputs": [],
   "source": [
    "update_coordinates(ilsan, kakao_api_key)\n",
    "ilsan.to_csv(\"./dataset_life_infra_일산_병원.csv\", encoding='utf-8')"
   ]
  },
  {
   "cell_type": "code",
   "execution_count": 99,
   "metadata": {},
   "outputs": [
    {
     "data": {
      "text/html": [
       "<div>\n",
       "<style scoped>\n",
       "    .dataframe tbody tr th:only-of-type {\n",
       "        vertical-align: middle;\n",
       "    }\n",
       "\n",
       "    .dataframe tbody tr th {\n",
       "        vertical-align: top;\n",
       "    }\n",
       "\n",
       "    .dataframe thead th {\n",
       "        text-align: right;\n",
       "    }\n",
       "</style>\n",
       "<table border=\"1\" class=\"dataframe\">\n",
       "  <thead>\n",
       "    <tr style=\"text-align: right;\">\n",
       "      <th></th>\n",
       "      <th>상세영업상태명</th>\n",
       "      <th>인허가일자</th>\n",
       "      <th>폐업일자</th>\n",
       "      <th>소재지전체주소</th>\n",
       "      <th>도로명전체주소</th>\n",
       "      <th>사업장명</th>\n",
       "      <th>업태구분명</th>\n",
       "      <th>의료인수</th>\n",
       "      <th>입원실수</th>\n",
       "      <th>병상수</th>\n",
       "      <th>진료과목내용명</th>\n",
       "      <th>위도</th>\n",
       "      <th>경도</th>\n",
       "    </tr>\n",
       "  </thead>\n",
       "  <tbody>\n",
       "    <tr>\n",
       "      <th>0</th>\n",
       "      <td>영업중</td>\n",
       "      <td>2007-01-24</td>\n",
       "      <td>NaN</td>\n",
       "      <td>경기도 고양시 일산서구 주엽동 21 사과나무치과병원</td>\n",
       "      <td>경기도 고양시 일산서구 중앙로 1450, 사과나무치과병원 2~7층 (주엽동)</td>\n",
       "      <td>사과나무치과병원</td>\n",
       "      <td>치과병원</td>\n",
       "      <td>25</td>\n",
       "      <td>0</td>\n",
       "      <td>0</td>\n",
       "      <td>내과, 가정의학과, 구강악안면외과, 치과보철과, 치과교정과, 소아치과, 치주과, 치...</td>\n",
       "      <td>37.671268</td>\n",
       "      <td>126.759604</td>\n",
       "    </tr>\n",
       "    <tr>\n",
       "      <th>1</th>\n",
       "      <td>영업중</td>\n",
       "      <td>2008-07-11</td>\n",
       "      <td>NaN</td>\n",
       "      <td>경기도 고양시 일산동구 중산동 1696 지하1층 일부, 1층 일부, 2~5층</td>\n",
       "      <td>경기도 고양시 일산동구 중산로 117, 지하1층 일부, 1층 일부, 2~5층 (중산동)</td>\n",
       "      <td>해븐리병원</td>\n",
       "      <td>병원</td>\n",
       "      <td>37</td>\n",
       "      <td>40</td>\n",
       "      <td>178</td>\n",
       "      <td>내과, 신경과, 정형외과, 영상의학과, 재활의학과, 가정의학과</td>\n",
       "      <td>37.682541</td>\n",
       "      <td>126.781049</td>\n",
       "    </tr>\n",
       "    <tr>\n",
       "      <th>2</th>\n",
       "      <td>영업중</td>\n",
       "      <td>2008-08-14</td>\n",
       "      <td>NaN</td>\n",
       "      <td>NaN</td>\n",
       "      <td>경기도 고양시 일산서구 주화로 88 (주엽동, 효림빌딩 201호, 205~6호, 3...</td>\n",
       "      <td>효림요양병원</td>\n",
       "      <td>요양병원(일반요양병원)</td>\n",
       "      <td>20</td>\n",
       "      <td>29</td>\n",
       "      <td>150</td>\n",
       "      <td>내과, 신경과, 외과, 피부과, 재활의학과, 가정의학과, 한방내과, 한방신경정신과,...</td>\n",
       "      <td>37.670554</td>\n",
       "      <td>126.758525</td>\n",
       "    </tr>\n",
       "    <tr>\n",
       "      <th>3</th>\n",
       "      <td>영업중</td>\n",
       "      <td>2009-03-31</td>\n",
       "      <td>NaN</td>\n",
       "      <td>NaN</td>\n",
       "      <td>경기도 고양시 일산서구 덕이로 212 (덕이동, 백송프라자 3,4층 일부)</td>\n",
       "      <td>무지개요양병원</td>\n",
       "      <td>요양병원(일반요양병원)</td>\n",
       "      <td>41</td>\n",
       "      <td>49</td>\n",
       "      <td>280</td>\n",
       "      <td>가정의학과, 한방내과</td>\n",
       "      <td>37.696692</td>\n",
       "      <td>126.739335</td>\n",
       "    </tr>\n",
       "    <tr>\n",
       "      <th>4</th>\n",
       "      <td>영업중</td>\n",
       "      <td>2009-04-29</td>\n",
       "      <td>NaN</td>\n",
       "      <td>경기도 고양시 일산서구 일산2동 554번지 4호 일산마샬빌딩 4,5,6,7,8층</td>\n",
       "      <td>경기도 고양시 일산서구 일중로 59 (일산동, 일산마샬빌딩 4,5,6,7,8층)</td>\n",
       "      <td>로하스일산병원</td>\n",
       "      <td>병원</td>\n",
       "      <td>48</td>\n",
       "      <td>31</td>\n",
       "      <td>112</td>\n",
       "      <td>내과, 재활의학과, 가정의학과, 한방내과</td>\n",
       "      <td>37.684972</td>\n",
       "      <td>126.775199</td>\n",
       "    </tr>\n",
       "  </tbody>\n",
       "</table>\n",
       "</div>"
      ],
      "text/plain": [
       "  상세영업상태명       인허가일자 폐업일자                                       소재지전체주소  \\\n",
       "0     영업중  2007-01-24  NaN                  경기도 고양시 일산서구 주엽동 21 사과나무치과병원   \n",
       "1     영업중  2008-07-11  NaN    경기도 고양시 일산동구 중산동 1696 지하1층 일부, 1층 일부, 2~5층   \n",
       "2     영업중  2008-08-14  NaN                                           NaN   \n",
       "3     영업중  2009-03-31  NaN                                           NaN   \n",
       "4     영업중  2009-04-29  NaN  경기도 고양시 일산서구 일산2동 554번지 4호 일산마샬빌딩 4,5,6,7,8층   \n",
       "\n",
       "                                             도로명전체주소      사업장명         업태구분명  \\\n",
       "0         경기도 고양시 일산서구 중앙로 1450, 사과나무치과병원 2~7층 (주엽동)  사과나무치과병원          치과병원   \n",
       "1   경기도 고양시 일산동구 중산로 117, 지하1층 일부, 1층 일부, 2~5층 (중산동)     해븐리병원            병원   \n",
       "2  경기도 고양시 일산서구 주화로 88 (주엽동, 효림빌딩 201호, 205~6호, 3...    효림요양병원  요양병원(일반요양병원)   \n",
       "3          경기도 고양시 일산서구 덕이로 212 (덕이동, 백송프라자 3,4층 일부)   무지개요양병원  요양병원(일반요양병원)   \n",
       "4       경기도 고양시 일산서구 일중로 59 (일산동, 일산마샬빌딩 4,5,6,7,8층)   로하스일산병원            병원   \n",
       "\n",
       "   의료인수  입원실수  병상수                                            진료과목내용명  \\\n",
       "0    25     0    0  내과, 가정의학과, 구강악안면외과, 치과보철과, 치과교정과, 소아치과, 치주과, 치...   \n",
       "1    37    40  178                 내과, 신경과, 정형외과, 영상의학과, 재활의학과, 가정의학과   \n",
       "2    20    29  150  내과, 신경과, 외과, 피부과, 재활의학과, 가정의학과, 한방내과, 한방신경정신과,...   \n",
       "3    41    49  280                                        가정의학과, 한방내과   \n",
       "4    48    31  112                             내과, 재활의학과, 가정의학과, 한방내과   \n",
       "\n",
       "          위도          경도  \n",
       "0  37.671268  126.759604  \n",
       "1  37.682541  126.781049  \n",
       "2  37.670554  126.758525  \n",
       "3  37.696692  126.739335  \n",
       "4  37.684972  126.775199  "
      ]
     },
     "execution_count": 99,
     "metadata": {},
     "output_type": "execute_result"
    }
   ],
   "source": [
    "ilsan.head()"
   ]
  },
  {
   "cell_type": "code",
   "execution_count": 92,
   "metadata": {},
   "outputs": [],
   "source": [
    "bundang = data_hospital_sort[\n",
    "    data_hospital_sort[\"도로명전체주소\"].combine_first(data_hospital_sort[\"소재지전체주소\"]).str.contains(\"성남시 분당\", na=False)\n",
    "].reset_index(drop=True)"
   ]
  },
  {
   "cell_type": "code",
   "execution_count": 94,
   "metadata": {},
   "outputs": [
    {
     "name": "stderr",
     "output_type": "stream",
     "text": [
      "  4%|▍         | 2/46 [00:00<00:02, 16.71it/s]"
     ]
    },
    {
     "name": "stdout",
     "output_type": "stream",
     "text": [
      "경기도 성남시 분당구 황새울로 8\n",
      "경기도 성남시 분당구 미금일로 32\n"
     ]
    },
    {
     "name": "stderr",
     "output_type": "stream",
     "text": [
      "  9%|▊         | 4/46 [00:01<00:20,  2.01it/s]"
     ]
    },
    {
     "name": "stdout",
     "output_type": "stream",
     "text": [
      "경기도 성남시 분당구 황새울로 15\n"
     ]
    },
    {
     "name": "stderr",
     "output_type": "stream",
     "text": [
      " 13%|█▎        | 6/46 [00:02<00:16,  2.42it/s]"
     ]
    },
    {
     "name": "stdout",
     "output_type": "stream",
     "text": [
      "경기도 성남시 분당구 대왕판교로 155-8\n"
     ]
    },
    {
     "name": "stderr",
     "output_type": "stream",
     "text": [
      " 22%|██▏       | 10/46 [00:03<00:09,  3.72it/s]"
     ]
    },
    {
     "name": "stdout",
     "output_type": "stream",
     "text": [
      "경기도 성남시 분당구 불정로 8일부~4층\n"
     ]
    },
    {
     "name": "stderr",
     "output_type": "stream",
     "text": [
      " 24%|██▍       | 11/46 [00:03<00:09,  3.52it/s]"
     ]
    },
    {
     "name": "stdout",
     "output_type": "stream",
     "text": [
      "경기도 성남시 분당구 성남대로 6\n"
     ]
    },
    {
     "name": "stderr",
     "output_type": "stream",
     "text": [
      " 26%|██▌       | 12/46 [00:04<00:12,  2.68it/s]"
     ]
    },
    {
     "name": "stdout",
     "output_type": "stream",
     "text": [
      "경기도 성남시 분당구 분당내곡로 151\n"
     ]
    },
    {
     "name": "stderr",
     "output_type": "stream",
     "text": [
      " 33%|███▎      | 15/46 [00:04<00:07,  4.01it/s]"
     ]
    },
    {
     "name": "stdout",
     "output_type": "stream",
     "text": [
      "경기도 성남시 분당구 황새울로 13\n"
     ]
    },
    {
     "name": "stderr",
     "output_type": "stream",
     "text": [
      " 35%|███▍      | 16/46 [00:05<00:10,  2.89it/s]"
     ]
    },
    {
     "name": "stdout",
     "output_type": "stream",
     "text": [
      "경기도 성남시 분당구 양현로 17\n"
     ]
    },
    {
     "name": "stderr",
     "output_type": "stream",
     "text": [
      " 41%|████▏     | 19/46 [00:06<00:07,  3.83it/s]"
     ]
    },
    {
     "name": "stdout",
     "output_type": "stream",
     "text": [
      "경기도 성남시 분당구 미금로 40\n"
     ]
    },
    {
     "name": "stderr",
     "output_type": "stream",
     "text": [
      " 46%|████▌     | 21/46 [00:06<00:06,  3.90it/s]"
     ]
    },
    {
     "name": "stdout",
     "output_type": "stream",
     "text": [
      "경기도 성남시 분당구 서현로 20\n"
     ]
    },
    {
     "name": "stderr",
     "output_type": "stream",
     "text": [
      " 48%|████▊     | 22/46 [00:07<00:08,  2.96it/s]"
     ]
    },
    {
     "name": "stdout",
     "output_type": "stream",
     "text": [
      "경기도 성남시 분당구 새나리로 13\n"
     ]
    },
    {
     "name": "stderr",
     "output_type": "stream",
     "text": [
      " 50%|█████     | 23/46 [00:07<00:08,  2.59it/s]"
     ]
    },
    {
     "name": "stdout",
     "output_type": "stream",
     "text": [
      "경기도 성남시 분당구 새마을로 81\n"
     ]
    },
    {
     "name": "stderr",
     "output_type": "stream",
     "text": [
      " 52%|█████▏    | 24/46 [00:08<00:08,  2.61it/s]"
     ]
    },
    {
     "name": "stdout",
     "output_type": "stream",
     "text": [
      "경기도 성남시 분당구 새마을로 81\n"
     ]
    },
    {
     "name": "stderr",
     "output_type": "stream",
     "text": [
      " 59%|█████▊    | 27/46 [00:08<00:05,  3.73it/s]"
     ]
    },
    {
     "name": "stdout",
     "output_type": "stream",
     "text": [
      "경기도 성남시 분당구 정자로 13\n"
     ]
    },
    {
     "name": "stderr",
     "output_type": "stream",
     "text": [
      " 65%|██████▌   | 30/46 [00:09<00:03,  4.89it/s]"
     ]
    },
    {
     "name": "stdout",
     "output_type": "stream",
     "text": [
      "경기도 성남시 분당구 서현로 27\n"
     ]
    },
    {
     "name": "stderr",
     "output_type": "stream",
     "text": [
      " 67%|██████▋   | 31/46 [00:09<00:04,  3.56it/s]"
     ]
    },
    {
     "name": "stdout",
     "output_type": "stream",
     "text": [
      "경기도 성남시 분당구 정자일로 6\n"
     ]
    },
    {
     "name": "stderr",
     "output_type": "stream",
     "text": [
      " 70%|██████▉   | 32/46 [00:11<00:09,  1.45it/s]"
     ]
    },
    {
     "name": "stdout",
     "output_type": "stream",
     "text": [
      "경기도 성남시 분당구 야탑로 59\n"
     ]
    },
    {
     "name": "stderr",
     "output_type": "stream",
     "text": [
      " 76%|███████▌  | 35/46 [00:12<00:04,  2.35it/s]"
     ]
    },
    {
     "name": "stdout",
     "output_type": "stream",
     "text": [
      "경기도 성남시 분당구 판교로 473\n"
     ]
    },
    {
     "name": "stderr",
     "output_type": "stream",
     "text": [
      " 85%|████████▍ | 39/46 [00:13<00:01,  3.97it/s]"
     ]
    },
    {
     "name": "stdout",
     "output_type": "stream",
     "text": [
      "can't get info : 경기도 성남시 분당구 정자동15\n",
      "경기도 성남시 분당구 분당로 3\n"
     ]
    },
    {
     "name": "stderr",
     "output_type": "stream",
     "text": [
      " 89%|████████▉ | 41/46 [00:13<00:01,  4.05it/s]"
     ]
    },
    {
     "name": "stdout",
     "output_type": "stream",
     "text": [
      "경기도 성남시 분당구 성남대로 385\n"
     ]
    },
    {
     "name": "stderr",
     "output_type": "stream",
     "text": [
      " 93%|█████████▎| 43/46 [00:14<00:00,  4.13it/s]"
     ]
    },
    {
     "name": "stdout",
     "output_type": "stream",
     "text": [
      "경기도 성남시 분당구 성남대로 385\n"
     ]
    },
    {
     "name": "stderr",
     "output_type": "stream",
     "text": [
      " 96%|█████████▌| 44/46 [00:14<00:00,  3.43it/s]"
     ]
    },
    {
     "name": "stdout",
     "output_type": "stream",
     "text": [
      "경기도 성남시 분당구 정자일로 6\n"
     ]
    },
    {
     "name": "stderr",
     "output_type": "stream",
     "text": [
      " 98%|█████████▊| 45/46 [00:15<00:00,  2.82it/s]"
     ]
    },
    {
     "name": "stdout",
     "output_type": "stream",
     "text": [
      "경기도 성남시 분당구 장미로 78\n"
     ]
    },
    {
     "name": "stderr",
     "output_type": "stream",
     "text": [
      "100%|██████████| 46/46 [00:15<00:00,  2.94it/s]\n"
     ]
    }
   ],
   "source": [
    "update_coordinates(bundang, kakao_api_key)"
   ]
  },
  {
   "cell_type": "code",
   "execution_count": 97,
   "metadata": {},
   "outputs": [],
   "source": [
    "bundang.to_csv(\"./dataset_life_infra_분당_병원.csv\")"
   ]
  },
  {
   "cell_type": "code",
   "execution_count": 98,
   "metadata": {},
   "outputs": [
    {
     "data": {
      "text/html": [
       "<div>\n",
       "<style scoped>\n",
       "    .dataframe tbody tr th:only-of-type {\n",
       "        vertical-align: middle;\n",
       "    }\n",
       "\n",
       "    .dataframe tbody tr th {\n",
       "        vertical-align: top;\n",
       "    }\n",
       "\n",
       "    .dataframe thead th {\n",
       "        text-align: right;\n",
       "    }\n",
       "</style>\n",
       "<table border=\"1\" class=\"dataframe\">\n",
       "  <thead>\n",
       "    <tr style=\"text-align: right;\">\n",
       "      <th></th>\n",
       "      <th>상세영업상태명</th>\n",
       "      <th>인허가일자</th>\n",
       "      <th>폐업일자</th>\n",
       "      <th>소재지전체주소</th>\n",
       "      <th>도로명전체주소</th>\n",
       "      <th>사업장명</th>\n",
       "      <th>업태구분명</th>\n",
       "      <th>의료인수</th>\n",
       "      <th>입원실수</th>\n",
       "      <th>병상수</th>\n",
       "      <th>진료과목내용명</th>\n",
       "      <th>위도</th>\n",
       "      <th>경도</th>\n",
       "    </tr>\n",
       "  </thead>\n",
       "  <tbody>\n",
       "    <tr>\n",
       "      <th>0</th>\n",
       "      <td>폐업</td>\n",
       "      <td>1995-04-10</td>\n",
       "      <td>2008-07-28</td>\n",
       "      <td>경기도 성남시 분당구 야탑동351</td>\n",
       "      <td>경기도 성남시 분당구 야탑로 59 (야탑동)</td>\n",
       "      <td>분당차한방병원</td>\n",
       "      <td>한방병원</td>\n",
       "      <td>18</td>\n",
       "      <td>19</td>\n",
       "      <td>50</td>\n",
       "      <td>한방내과, 한방부인과, 한방소아과, 한방안·이비인후·피부과, 한방신경정신과, 한방재...</td>\n",
       "      <td>37.41025</td>\n",
       "      <td>127.12525</td>\n",
       "    </tr>\n",
       "    <tr>\n",
       "      <th>1</th>\n",
       "      <td>폐업</td>\n",
       "      <td>2013-11-25</td>\n",
       "      <td>2023-07-21</td>\n",
       "      <td>NaN</td>\n",
       "      <td>경기도 성남시 분당구 황새울로342번길 15, 5층일부, 6층 (서현동, 은성빌딩)</td>\n",
       "      <td>마디나은병원</td>\n",
       "      <td>병원</td>\n",
       "      <td>3</td>\n",
       "      <td>8</td>\n",
       "      <td>30</td>\n",
       "      <td>정형외과, 신경외과, 마취통증의학과, 영상의학과</td>\n",
       "      <td>37.386423</td>\n",
       "      <td>127.123941</td>\n",
       "    </tr>\n",
       "    <tr>\n",
       "      <th>2</th>\n",
       "      <td>폐업</td>\n",
       "      <td>2010-03-15</td>\n",
       "      <td>2011-09-01</td>\n",
       "      <td>경기도 성남시 분당구 서현동 253번지 2호 지하1층 일부,2층,5층</td>\n",
       "      <td>경기도 성남시 분당구 황새울로351번길 8 (서현동,지하1층 일부,2층,5층)</td>\n",
       "      <td>좋은이웃병원</td>\n",
       "      <td>병원</td>\n",
       "      <td>5</td>\n",
       "      <td>14</td>\n",
       "      <td>37</td>\n",
       "      <td>내과, 소아청소년과, 이비인후과, 피부과, 영상의학과, 진단검사의학과</td>\n",
       "      <td>37.379383</td>\n",
       "      <td>127.113275</td>\n",
       "    </tr>\n",
       "    <tr>\n",
       "      <th>3</th>\n",
       "      <td>폐업</td>\n",
       "      <td>2012-05-04</td>\n",
       "      <td>2018-06-01</td>\n",
       "      <td>NaN</td>\n",
       "      <td>경기도 성남시 분당구 미금일로90번길 32, 301~330호. 337~341호 (구...</td>\n",
       "      <td>순병원</td>\n",
       "      <td>병원</td>\n",
       "      <td>7</td>\n",
       "      <td>14</td>\n",
       "      <td>39</td>\n",
       "      <td>내과, 신경과, 외과, 정형외과, 신경외과, 성형외과, 마취통증의학과, 소아청소년과...</td>\n",
       "      <td>37.34762</td>\n",
       "      <td>127.107229</td>\n",
       "    </tr>\n",
       "    <tr>\n",
       "      <th>4</th>\n",
       "      <td>폐업</td>\n",
       "      <td>2016-04-14</td>\n",
       "      <td>2023-06-15</td>\n",
       "      <td>NaN</td>\n",
       "      <td>경기도 성남시 분당구 서현로 184, 405호, 406호 (서현동, 엘지분당에클라트)</td>\n",
       "      <td>송병재한방병원</td>\n",
       "      <td>한방병원</td>\n",
       "      <td>4</td>\n",
       "      <td>5</td>\n",
       "      <td>30</td>\n",
       "      <td>재활의학과, 한방내과, 한방부인과, 한방소아과, 한방안·이비인후·피부과, 한방신경정...</td>\n",
       "      <td>37.388374</td>\n",
       "      <td>127.123789</td>\n",
       "    </tr>\n",
       "  </tbody>\n",
       "</table>\n",
       "</div>"
      ],
      "text/plain": [
       "  상세영업상태명       인허가일자        폐업일자                                 소재지전체주소  \\\n",
       "0      폐업  1995-04-10  2008-07-28                      경기도 성남시 분당구 야탑동351   \n",
       "1      폐업  2013-11-25  2023-07-21                                     NaN   \n",
       "2      폐업  2010-03-15  2011-09-01  경기도 성남시 분당구 서현동 253번지 2호 지하1층 일부,2층,5층   \n",
       "3      폐업  2012-05-04  2018-06-01                                     NaN   \n",
       "4      폐업  2016-04-14  2023-06-15                                     NaN   \n",
       "\n",
       "                                             도로명전체주소     사업장명 업태구분명  의료인수  \\\n",
       "0                           경기도 성남시 분당구 야탑로 59 (야탑동)  분당차한방병원  한방병원    18   \n",
       "1     경기도 성남시 분당구 황새울로342번길 15, 5층일부, 6층 (서현동, 은성빌딩)   마디나은병원    병원     3   \n",
       "2        경기도 성남시 분당구 황새울로351번길 8 (서현동,지하1층 일부,2층,5층)   좋은이웃병원    병원     5   \n",
       "3  경기도 성남시 분당구 미금일로90번길 32, 301~330호. 337~341호 (구...      순병원    병원     7   \n",
       "4    경기도 성남시 분당구 서현로 184, 405호, 406호 (서현동, 엘지분당에클라트)  송병재한방병원  한방병원     4   \n",
       "\n",
       "   입원실수  병상수                                            진료과목내용명         위도  \\\n",
       "0    19   50  한방내과, 한방부인과, 한방소아과, 한방안·이비인후·피부과, 한방신경정신과, 한방재...   37.41025   \n",
       "1     8   30                         정형외과, 신경외과, 마취통증의학과, 영상의학과  37.386423   \n",
       "2    14   37             내과, 소아청소년과, 이비인후과, 피부과, 영상의학과, 진단검사의학과  37.379383   \n",
       "3    14   39  내과, 신경과, 외과, 정형외과, 신경외과, 성형외과, 마취통증의학과, 소아청소년과...   37.34762   \n",
       "4     5   30  재활의학과, 한방내과, 한방부인과, 한방소아과, 한방안·이비인후·피부과, 한방신경정...  37.388374   \n",
       "\n",
       "           경도  \n",
       "0   127.12525  \n",
       "1  127.123941  \n",
       "2  127.113275  \n",
       "3  127.107229  \n",
       "4  127.123789  "
      ]
     },
     "execution_count": 98,
     "metadata": {},
     "output_type": "execute_result"
    }
   ],
   "source": [
    "bundang.head()"
   ]
  },
  {
   "cell_type": "markdown",
   "metadata": {},
   "source": [
    "### 필터링 기준 (의원)\n",
    "> 사용 열 : \"상세영업상태명\", \"폐업일자\", \"소재지전체주소\", \"도로명전체주소\", \"사업장명\", \"업태구분명\", \"의료인수\", \"입원실수\", \"병상수\", \"진료과목내용명\"\n",
    "- 필터링 (1) : 분당, 일산 단어가 포함된 위치 우선적으로 선택\n",
    "- 전처리 (1) : 주소 기반 위도, 경도 관련 데이터 Search"
   ]
  },
  {
   "cell_type": "code",
   "execution_count": 3,
   "metadata": {},
   "outputs": [],
   "source": [
    "## 병원\n",
    "data_medical = pd.read_csv(\"./의원.csv\", encoding='utf-8')\n",
    "data_medical_sort = data_medical[[\"상세영업상태명\", \"인허가일자\",\"폐업일자\", \"소재지전체주소\", \"도로명전체주소\", \"사업장명\", \"업태구분명\", \"의료인수\", \"입원실수\", \"병상수\", \"진료과목내용명\"]]"
   ]
  },
  {
   "cell_type": "code",
   "execution_count": 4,
   "metadata": {},
   "outputs": [],
   "source": [
    "data_medical_sort = data_medical_sort.copy()\n",
    "data_medical_sort['위도'] = None\n",
    "data_medical_sort['경도'] = None"
   ]
  },
  {
   "cell_type": "code",
   "execution_count": 74,
   "metadata": {},
   "outputs": [
    {
     "data": {
      "text/html": [
       "<div>\n",
       "<style scoped>\n",
       "    .dataframe tbody tr th:only-of-type {\n",
       "        vertical-align: middle;\n",
       "    }\n",
       "\n",
       "    .dataframe tbody tr th {\n",
       "        vertical-align: top;\n",
       "    }\n",
       "\n",
       "    .dataframe thead th {\n",
       "        text-align: right;\n",
       "    }\n",
       "</style>\n",
       "<table border=\"1\" class=\"dataframe\">\n",
       "  <thead>\n",
       "    <tr style=\"text-align: right;\">\n",
       "      <th></th>\n",
       "      <th>상세영업상태명</th>\n",
       "      <th>인허가일자</th>\n",
       "      <th>폐업일자</th>\n",
       "      <th>소재지전체주소</th>\n",
       "      <th>도로명전체주소</th>\n",
       "      <th>사업장명</th>\n",
       "      <th>업태구분명</th>\n",
       "      <th>의료인수</th>\n",
       "      <th>입원실수</th>\n",
       "      <th>병상수</th>\n",
       "      <th>진료과목내용명</th>\n",
       "      <th>위도</th>\n",
       "      <th>경도</th>\n",
       "    </tr>\n",
       "  </thead>\n",
       "  <tbody>\n",
       "    <tr>\n",
       "      <th>0</th>\n",
       "      <td>영업중</td>\n",
       "      <td>2019-03-06</td>\n",
       "      <td>NaN</td>\n",
       "      <td>경기도 고양시 일산동구 중산동 1667번지 8호</td>\n",
       "      <td>경기도 고양시 일산동구 고봉로 266, 5층 (중산동)</td>\n",
       "      <td>미래마취통증의학과의원</td>\n",
       "      <td>의원</td>\n",
       "      <td>2.0</td>\n",
       "      <td>0.0</td>\n",
       "      <td>0.0</td>\n",
       "      <td>정형외과, 신경외과, 마취통증의학과, 재활의학과</td>\n",
       "      <td>None</td>\n",
       "      <td>None</td>\n",
       "    </tr>\n",
       "    <tr>\n",
       "      <th>1</th>\n",
       "      <td>영업중</td>\n",
       "      <td>2019-03-08</td>\n",
       "      <td>NaN</td>\n",
       "      <td>NaN</td>\n",
       "      <td>경기도 고양시 일산동구 정발산로 38, 장항동이스턴시티 207호 (장항동)</td>\n",
       "      <td>마음미소정신건강의학과의원</td>\n",
       "      <td>의원</td>\n",
       "      <td>1.0</td>\n",
       "      <td>0.0</td>\n",
       "      <td>0.0</td>\n",
       "      <td>정신건강의학과</td>\n",
       "      <td>None</td>\n",
       "      <td>None</td>\n",
       "    </tr>\n",
       "    <tr>\n",
       "      <th>2</th>\n",
       "      <td>영업중</td>\n",
       "      <td>2019-03-15</td>\n",
       "      <td>NaN</td>\n",
       "      <td>NaN</td>\n",
       "      <td>경기도 고양시 일산동구 강송로 119, 용신코아 3층 302호 (백석동)</td>\n",
       "      <td>이재한의원</td>\n",
       "      <td>한의원</td>\n",
       "      <td>1.0</td>\n",
       "      <td>0.0</td>\n",
       "      <td>0.0</td>\n",
       "      <td>한방내과, 한방부인과, 한방소아과, 한방안·이비인후·피부과, 한방신경정신과, 한방재...</td>\n",
       "      <td>None</td>\n",
       "      <td>None</td>\n",
       "    </tr>\n",
       "    <tr>\n",
       "      <th>3</th>\n",
       "      <td>영업중</td>\n",
       "      <td>2019-01-28</td>\n",
       "      <td>NaN</td>\n",
       "      <td>NaN</td>\n",
       "      <td>경기도 고양시 일산동구 정발산로 38, 장항동이스턴시티 208호 일부, 408호 (...</td>\n",
       "      <td>정발산튼튼척의원</td>\n",
       "      <td>의원</td>\n",
       "      <td>3.0</td>\n",
       "      <td>0.0</td>\n",
       "      <td>0.0</td>\n",
       "      <td>외과, 정형외과, 마취통증의학과, 재활의학과</td>\n",
       "      <td>None</td>\n",
       "      <td>None</td>\n",
       "    </tr>\n",
       "    <tr>\n",
       "      <th>4</th>\n",
       "      <td>영업중</td>\n",
       "      <td>2019-02-18</td>\n",
       "      <td>NaN</td>\n",
       "      <td>NaN</td>\n",
       "      <td>경기도 고양시 일산동구 중산로 244, 고은프라자 3층 301호 (중산동)</td>\n",
       "      <td>열린부부한의원</td>\n",
       "      <td>한의원</td>\n",
       "      <td>1.0</td>\n",
       "      <td>0.0</td>\n",
       "      <td>0.0</td>\n",
       "      <td>한방내과, 한방부인과, 한방소아과, 한방안·이비인후·피부과, 한방신경정신과, 한방재...</td>\n",
       "      <td>None</td>\n",
       "      <td>None</td>\n",
       "    </tr>\n",
       "  </tbody>\n",
       "</table>\n",
       "</div>"
      ],
      "text/plain": [
       "  상세영업상태명       인허가일자 폐업일자                     소재지전체주소  \\\n",
       "0     영업중  2019-03-06  NaN  경기도 고양시 일산동구 중산동 1667번지 8호   \n",
       "1     영업중  2019-03-08  NaN                         NaN   \n",
       "2     영업중  2019-03-15  NaN                         NaN   \n",
       "3     영업중  2019-01-28  NaN                         NaN   \n",
       "4     영업중  2019-02-18  NaN                         NaN   \n",
       "\n",
       "                                             도로명전체주소           사업장명 업태구분명  \\\n",
       "0                     경기도 고양시 일산동구 고봉로 266, 5층 (중산동)    미래마취통증의학과의원    의원   \n",
       "1          경기도 고양시 일산동구 정발산로 38, 장항동이스턴시티 207호 (장항동)  마음미소정신건강의학과의원    의원   \n",
       "2           경기도 고양시 일산동구 강송로 119, 용신코아 3층 302호 (백석동)          이재한의원   한의원   \n",
       "3  경기도 고양시 일산동구 정발산로 38, 장항동이스턴시티 208호 일부, 408호 (...       정발산튼튼척의원    의원   \n",
       "4          경기도 고양시 일산동구 중산로 244, 고은프라자 3층 301호 (중산동)        열린부부한의원   한의원   \n",
       "\n",
       "   의료인수  입원실수  병상수                                            진료과목내용명    위도  \\\n",
       "0   2.0   0.0  0.0                         정형외과, 신경외과, 마취통증의학과, 재활의학과  None   \n",
       "1   1.0   0.0  0.0                                            정신건강의학과  None   \n",
       "2   1.0   0.0  0.0  한방내과, 한방부인과, 한방소아과, 한방안·이비인후·피부과, 한방신경정신과, 한방재...  None   \n",
       "3   3.0   0.0  0.0                           외과, 정형외과, 마취통증의학과, 재활의학과  None   \n",
       "4   1.0   0.0  0.0  한방내과, 한방부인과, 한방소아과, 한방안·이비인후·피부과, 한방신경정신과, 한방재...  None   \n",
       "\n",
       "     경도  \n",
       "0  None  \n",
       "1  None  \n",
       "2  None  \n",
       "3  None  \n",
       "4  None  "
      ]
     },
     "execution_count": 74,
     "metadata": {},
     "output_type": "execute_result"
    }
   ],
   "source": [
    "ilsan = data_medical_sort[\n",
    "    data_medical_sort[\"도로명전체주소\"].combine_first(data_medical_sort[\"소재지전체주소\"]).str.contains(\"고양시 일산\", na=False)\n",
    "].reset_index(drop=True)\n",
    "\n",
    "ilsan.head()"
   ]
  },
  {
   "cell_type": "code",
   "execution_count": 75,
   "metadata": {},
   "outputs": [
    {
     "name": "stderr",
     "output_type": "stream",
     "text": [
      " 78%|███████▊  | 907/1161 [01:14<00:36,  6.97it/s]"
     ]
    },
    {
     "name": "stdout",
     "output_type": "stream",
     "text": [
      "Failed to get location info for: 경기도 고양시 일산동구 일산동1137-1. 2층 / nan\n"
     ]
    },
    {
     "name": "stderr",
     "output_type": "stream",
     "text": [
      " 96%|█████████▋| 1118/1161 [01:33<00:04,  9.41it/s]"
     ]
    },
    {
     "name": "stdout",
     "output_type": "stream",
     "text": [
      "Failed to get location info for: 경기도 고양시 일산동구 마두2동 뉴코아백화점일산점 901호 일부 / nan\n"
     ]
    },
    {
     "name": "stderr",
     "output_type": "stream",
     "text": [
      "100%|██████████| 1161/1161 [01:37<00:00, 11.95it/s]\n"
     ]
    }
   ],
   "source": [
    "update_coordinates(ilsan, kakao_api_key)\n",
    "# ilsan.to_csv(\"./dataset_life_infra_일산_병원.csv\", encoding='utf-8')"
   ]
  },
  {
   "cell_type": "code",
   "execution_count": null,
   "metadata": {},
   "outputs": [
    {
     "data": {
      "text/html": [
       "<div>\n",
       "<style scoped>\n",
       "    .dataframe tbody tr th:only-of-type {\n",
       "        vertical-align: middle;\n",
       "    }\n",
       "\n",
       "    .dataframe tbody tr th {\n",
       "        vertical-align: top;\n",
       "    }\n",
       "\n",
       "    .dataframe thead th {\n",
       "        text-align: right;\n",
       "    }\n",
       "</style>\n",
       "<table border=\"1\" class=\"dataframe\">\n",
       "  <thead>\n",
       "    <tr style=\"text-align: right;\">\n",
       "      <th></th>\n",
       "      <th>상세영업상태명</th>\n",
       "      <th>인허가일자</th>\n",
       "      <th>폐업일자</th>\n",
       "      <th>소재지전체주소</th>\n",
       "      <th>도로명전체주소</th>\n",
       "      <th>사업장명</th>\n",
       "      <th>업태구분명</th>\n",
       "      <th>의료인수</th>\n",
       "      <th>입원실수</th>\n",
       "      <th>병상수</th>\n",
       "      <th>진료과목내용명</th>\n",
       "      <th>위도</th>\n",
       "      <th>경도</th>\n",
       "    </tr>\n",
       "  </thead>\n",
       "  <tbody>\n",
       "    <tr>\n",
       "      <th>905</th>\n",
       "      <td>폐업</td>\n",
       "      <td>2002-05-08</td>\n",
       "      <td>2008-10-01</td>\n",
       "      <td>경기도 고양시 일산동구 일산동1137-1. 2층</td>\n",
       "      <td>NaN</td>\n",
       "      <td>진한의원</td>\n",
       "      <td>한의원</td>\n",
       "      <td>1.0</td>\n",
       "      <td>0.0</td>\n",
       "      <td>0.0</td>\n",
       "      <td>한방내과</td>\n",
       "      <td>None</td>\n",
       "      <td>None</td>\n",
       "    </tr>\n",
       "    <tr>\n",
       "      <th>1115</th>\n",
       "      <td>폐업</td>\n",
       "      <td>2011-04-20</td>\n",
       "      <td>2012-07-31</td>\n",
       "      <td>경기도 고양시 일산동구 마두2동 뉴코아백화점일산점 901호 일부</td>\n",
       "      <td>NaN</td>\n",
       "      <td>보메디의원</td>\n",
       "      <td>의원</td>\n",
       "      <td>1.0</td>\n",
       "      <td>0.0</td>\n",
       "      <td>0.0</td>\n",
       "      <td>내과, 성형외과, 마취통증의학과, 소아청소년과, 피부과, 가정의학과</td>\n",
       "      <td>None</td>\n",
       "      <td>None</td>\n",
       "    </tr>\n",
       "  </tbody>\n",
       "</table>\n",
       "</div>"
      ],
      "text/plain": [
       "     상세영업상태명       인허가일자        폐업일자                              소재지전체주소  \\\n",
       "905       폐업  2002-05-08  2008-10-01           경기도 고양시 일산동구 일산동1137-1. 2층   \n",
       "1115      폐업  2011-04-20  2012-07-31  경기도 고양시 일산동구 마두2동 뉴코아백화점일산점 901호 일부   \n",
       "\n",
       "     도로명전체주소   사업장명 업태구분명  의료인수  입원실수  병상수  \\\n",
       "905      NaN   진한의원   한의원   1.0   0.0  0.0   \n",
       "1115     NaN  보메디의원    의원   1.0   0.0  0.0   \n",
       "\n",
       "                                    진료과목내용명    위도    경도  \n",
       "905                                    한방내과  None  None  \n",
       "1115  내과, 성형외과, 마취통증의학과, 소아청소년과, 피부과, 가정의학과  None  None  "
      ]
     },
     "execution_count": 76,
     "metadata": {},
     "output_type": "execute_result"
    }
   ],
   "source": [
    "# API 상으로 검색 안되는 위치 -> 직접 입력\n",
    "ilsan[ilsan['위도'].isna()]"
   ]
  },
  {
   "cell_type": "code",
   "execution_count": null,
   "metadata": {},
   "outputs": [],
   "source": [
    "# ilsan.to_csv(\"./dataset_life_infra_일산_의원.csv\", encoding='utf-8')"
   ]
  },
  {
   "cell_type": "code",
   "execution_count": 15,
   "metadata": {},
   "outputs": [
    {
     "data": {
      "text/html": [
       "<div>\n",
       "<style scoped>\n",
       "    .dataframe tbody tr th:only-of-type {\n",
       "        vertical-align: middle;\n",
       "    }\n",
       "\n",
       "    .dataframe tbody tr th {\n",
       "        vertical-align: top;\n",
       "    }\n",
       "\n",
       "    .dataframe thead th {\n",
       "        text-align: right;\n",
       "    }\n",
       "</style>\n",
       "<table border=\"1\" class=\"dataframe\">\n",
       "  <thead>\n",
       "    <tr style=\"text-align: right;\">\n",
       "      <th></th>\n",
       "      <th>상세영업상태명</th>\n",
       "      <th>인허가일자</th>\n",
       "      <th>폐업일자</th>\n",
       "      <th>소재지전체주소</th>\n",
       "      <th>도로명전체주소</th>\n",
       "      <th>사업장명</th>\n",
       "      <th>업태구분명</th>\n",
       "      <th>의료인수</th>\n",
       "      <th>입원실수</th>\n",
       "      <th>병상수</th>\n",
       "      <th>진료과목내용명</th>\n",
       "      <th>위도</th>\n",
       "      <th>경도</th>\n",
       "    </tr>\n",
       "  </thead>\n",
       "  <tbody>\n",
       "    <tr>\n",
       "      <th>0</th>\n",
       "      <td>폐업</td>\n",
       "      <td>2008-09-18</td>\n",
       "      <td>2016-08-22</td>\n",
       "      <td>경기도 성남시분당구 금곡동 158번지 미도프라자 202호</td>\n",
       "      <td>경기도 성남시 분당구 성남대로 168, 202호 (금곡동, 미도프라자)</td>\n",
       "      <td>리즈마취통증의학과의원</td>\n",
       "      <td>의원</td>\n",
       "      <td>1.0</td>\n",
       "      <td>0.0</td>\n",
       "      <td>0.0</td>\n",
       "      <td>내과, 마취통증의학과, 피부과</td>\n",
       "      <td>None</td>\n",
       "      <td>None</td>\n",
       "    </tr>\n",
       "    <tr>\n",
       "      <th>1</th>\n",
       "      <td>폐업</td>\n",
       "      <td>2008-09-23</td>\n",
       "      <td>2013-09-02</td>\n",
       "      <td>경기도 성남시분당구 수내동 83-3번지 돌마소매시장 301호일부, 304호</td>\n",
       "      <td>경기도 성남시 분당구 불정로 255, 301,304호 (수내동, 돌마소매시장)</td>\n",
       "      <td>미래정형외과의원</td>\n",
       "      <td>의원</td>\n",
       "      <td>1.0</td>\n",
       "      <td>0.0</td>\n",
       "      <td>0.0</td>\n",
       "      <td>내과, 외과, 정형외과, 신경외과, 피부과, 비뇨의학과, 영상의학과, 재활의학과</td>\n",
       "      <td>None</td>\n",
       "      <td>None</td>\n",
       "    </tr>\n",
       "    <tr>\n",
       "      <th>2</th>\n",
       "      <td>폐업</td>\n",
       "      <td>2012-01-19</td>\n",
       "      <td>2015-05-11</td>\n",
       "      <td>경기도 성남시 분당구  662번지 판교타워 601호</td>\n",
       "      <td>경기도 성남시 분당구 판교역로192번길 16, 601호 (삼평동, 판교타워)</td>\n",
       "      <td>S도쿄치과의원</td>\n",
       "      <td>치과의원</td>\n",
       "      <td>1.0</td>\n",
       "      <td>0.0</td>\n",
       "      <td>0.0</td>\n",
       "      <td>치과</td>\n",
       "      <td>None</td>\n",
       "      <td>None</td>\n",
       "    </tr>\n",
       "    <tr>\n",
       "      <th>3</th>\n",
       "      <td>폐업</td>\n",
       "      <td>2010-09-20</td>\n",
       "      <td>2017-04-01</td>\n",
       "      <td>경기도 성남시 분당구 수내동 63번지 1호 금산프라자 401호(일부)</td>\n",
       "      <td>경기도 성남시 분당구 내정로166번길 43, 401(일부)호 (수내동, 금산프라자)</td>\n",
       "      <td>씨씨엘의원</td>\n",
       "      <td>의원</td>\n",
       "      <td>1.0</td>\n",
       "      <td>0.0</td>\n",
       "      <td>0.0</td>\n",
       "      <td>내과, 성형외과, 소아청소년과, 이비인후과, 피부과, 가정의학과</td>\n",
       "      <td>None</td>\n",
       "      <td>None</td>\n",
       "    </tr>\n",
       "    <tr>\n",
       "      <th>4</th>\n",
       "      <td>폐업</td>\n",
       "      <td>2004-07-19</td>\n",
       "      <td>2006-07-25</td>\n",
       "      <td>경기도 성남시 분당구 정자동 8번지 4호 태남프라자 508호</td>\n",
       "      <td>경기도 성남시 분당구 정자일로 234, 508호 (정자동, 태남프라자)</td>\n",
       "      <td>S&amp;H(Slim&amp;Health)의원</td>\n",
       "      <td>의원</td>\n",
       "      <td>1.0</td>\n",
       "      <td>0.0</td>\n",
       "      <td>0.0</td>\n",
       "      <td>내과</td>\n",
       "      <td>None</td>\n",
       "      <td>None</td>\n",
       "    </tr>\n",
       "  </tbody>\n",
       "</table>\n",
       "</div>"
      ],
      "text/plain": [
       "  상세영업상태명       인허가일자        폐업일자                                    소재지전체주소  \\\n",
       "0      폐업  2008-09-18  2016-08-22            경기도 성남시분당구 금곡동 158번지 미도프라자 202호   \n",
       "1      폐업  2008-09-23  2013-09-02  경기도 성남시분당구 수내동 83-3번지 돌마소매시장 301호일부, 304호   \n",
       "2      폐업  2012-01-19  2015-05-11               경기도 성남시 분당구  662번지 판교타워 601호   \n",
       "3      폐업  2010-09-20  2017-04-01     경기도 성남시 분당구 수내동 63번지 1호 금산프라자 401호(일부)   \n",
       "4      폐업  2004-07-19  2006-07-25          경기도 성남시 분당구 정자동 8번지 4호 태남프라자 508호   \n",
       "\n",
       "                                          도로명전체주소                사업장명 업태구분명  \\\n",
       "0         경기도 성남시 분당구 성남대로 168, 202호 (금곡동, 미도프라자)         리즈마취통증의학과의원    의원   \n",
       "1     경기도 성남시 분당구 불정로 255, 301,304호 (수내동, 돌마소매시장)            미래정형외과의원    의원   \n",
       "2      경기도 성남시 분당구 판교역로192번길 16, 601호 (삼평동, 판교타워)             S도쿄치과의원  치과의원   \n",
       "3  경기도 성남시 분당구 내정로166번길 43, 401(일부)호 (수내동, 금산프라자)               씨씨엘의원    의원   \n",
       "4         경기도 성남시 분당구 정자일로 234, 508호 (정자동, 태남프라자)  S&H(Slim&Health)의원    의원   \n",
       "\n",
       "   의료인수  입원실수  병상수                                       진료과목내용명    위도    경도  \n",
       "0   1.0   0.0  0.0                              내과, 마취통증의학과, 피부과  None  None  \n",
       "1   1.0   0.0  0.0  내과, 외과, 정형외과, 신경외과, 피부과, 비뇨의학과, 영상의학과, 재활의학과  None  None  \n",
       "2   1.0   0.0  0.0                                            치과  None  None  \n",
       "3   1.0   0.0  0.0           내과, 성형외과, 소아청소년과, 이비인후과, 피부과, 가정의학과  None  None  \n",
       "4   1.0   0.0  0.0                                            내과  None  None  "
      ]
     },
     "execution_count": 15,
     "metadata": {},
     "output_type": "execute_result"
    }
   ],
   "source": [
    "bundang = data_medical_sort[\n",
    "    data_medical_sort[\"도로명전체주소\"].combine_first(data_medical_sort[\"소재지전체주소\"]).str.contains(\"성남시 분당\", na=False)\n",
    "].reset_index(drop=True)\n",
    "\n",
    "bundang.head()"
   ]
  },
  {
   "cell_type": "code",
   "execution_count": 16,
   "metadata": {},
   "outputs": [
    {
     "name": "stderr",
     "output_type": "stream",
     "text": [
      " 30%|██▉       | 492/1651 [01:56<04:10,  4.62it/s]"
     ]
    },
    {
     "name": "stdout",
     "output_type": "stream",
     "text": [
      "Failed to get location info for: 경기도 성남시분당구 야탑동 532번지 6호 정우스토아 201호 / 경기도 성남시 분당구 야탑남로 13, 201호 (야탑동, 정우스토아)\n"
     ]
    },
    {
     "name": "stderr",
     "output_type": "stream",
     "text": [
      " 34%|███▍      | 560/1651 [02:14<07:47,  2.33it/s]"
     ]
    },
    {
     "name": "stdout",
     "output_type": "stream",
     "text": [
      "Failed to get location info for: 경기도 성남시분당구 야탑동 149번지 10호 테크노프라자 401호 / 경기도 성남시 분당구 야탑남로 249, 401호 (야탑동, 테크노프라자)\n"
     ]
    },
    {
     "name": "stderr",
     "output_type": "stream",
     "text": [
      "100%|██████████| 1651/1651 [05:27<00:00,  5.04it/s]"
     ]
    },
    {
     "name": "stdout",
     "output_type": "stream",
     "text": [
      "Failed to get location info for: 경기도 성남시 분당구 정자동 정든마을 동아아파트 106-201 / nan\n"
     ]
    },
    {
     "name": "stderr",
     "output_type": "stream",
     "text": [
      "\n"
     ]
    }
   ],
   "source": [
    "update_coordinates(bundang, kakao_api_key)"
   ]
  },
  {
   "cell_type": "code",
   "execution_count": 8,
   "metadata": {},
   "outputs": [
    {
     "data": {
      "text/html": [
       "<div>\n",
       "<style scoped>\n",
       "    .dataframe tbody tr th:only-of-type {\n",
       "        vertical-align: middle;\n",
       "    }\n",
       "\n",
       "    .dataframe tbody tr th {\n",
       "        vertical-align: top;\n",
       "    }\n",
       "\n",
       "    .dataframe thead th {\n",
       "        text-align: right;\n",
       "    }\n",
       "</style>\n",
       "<table border=\"1\" class=\"dataframe\">\n",
       "  <thead>\n",
       "    <tr style=\"text-align: right;\">\n",
       "      <th></th>\n",
       "      <th>상세영업상태명</th>\n",
       "      <th>인허가일자</th>\n",
       "      <th>폐업일자</th>\n",
       "      <th>소재지전체주소</th>\n",
       "      <th>도로명전체주소</th>\n",
       "      <th>사업장명</th>\n",
       "      <th>업태구분명</th>\n",
       "      <th>의료인수</th>\n",
       "      <th>입원실수</th>\n",
       "      <th>병상수</th>\n",
       "      <th>진료과목내용명</th>\n",
       "      <th>위도</th>\n",
       "      <th>경도</th>\n",
       "    </tr>\n",
       "  </thead>\n",
       "  <tbody>\n",
       "    <tr>\n",
       "      <th>0</th>\n",
       "      <td>폐업</td>\n",
       "      <td>2008-09-18</td>\n",
       "      <td>2016-08-22</td>\n",
       "      <td>경기도 성남시분당구 금곡동 158번지 미도프라자 202호</td>\n",
       "      <td>경기도 성남시 분당구 성남대로 168, 202호 (금곡동, 미도프라자)</td>\n",
       "      <td>리즈마취통증의학과의원</td>\n",
       "      <td>의원</td>\n",
       "      <td>1.0</td>\n",
       "      <td>0.0</td>\n",
       "      <td>0.0</td>\n",
       "      <td>내과, 마취통증의학과, 피부과</td>\n",
       "      <td>37.350888</td>\n",
       "      <td>127.1095</td>\n",
       "    </tr>\n",
       "    <tr>\n",
       "      <th>1</th>\n",
       "      <td>폐업</td>\n",
       "      <td>2008-09-23</td>\n",
       "      <td>2013-09-02</td>\n",
       "      <td>경기도 성남시분당구 수내동 83-3번지 돌마소매시장 301호일부, 304호</td>\n",
       "      <td>경기도 성남시 분당구 불정로 255, 301,304호 (수내동, 돌마소매시장)</td>\n",
       "      <td>미래정형외과의원</td>\n",
       "      <td>의원</td>\n",
       "      <td>1.0</td>\n",
       "      <td>0.0</td>\n",
       "      <td>0.0</td>\n",
       "      <td>내과, 외과, 정형외과, 신경외과, 피부과, 비뇨의학과, 영상의학과, 재활의학과</td>\n",
       "      <td>37.366939</td>\n",
       "      <td>127.126393</td>\n",
       "    </tr>\n",
       "    <tr>\n",
       "      <th>2</th>\n",
       "      <td>폐업</td>\n",
       "      <td>2012-01-19</td>\n",
       "      <td>2015-05-11</td>\n",
       "      <td>경기도 성남시 분당구  662번지 판교타워 601호</td>\n",
       "      <td>경기도 성남시 분당구 판교역로192번길 16, 601호 (삼평동, 판교타워)</td>\n",
       "      <td>S도쿄치과의원</td>\n",
       "      <td>치과의원</td>\n",
       "      <td>1.0</td>\n",
       "      <td>0.0</td>\n",
       "      <td>0.0</td>\n",
       "      <td>치과</td>\n",
       "      <td>37.397745</td>\n",
       "      <td>127.111433</td>\n",
       "    </tr>\n",
       "    <tr>\n",
       "      <th>3</th>\n",
       "      <td>폐업</td>\n",
       "      <td>2010-09-20</td>\n",
       "      <td>2017-04-01</td>\n",
       "      <td>경기도 성남시 분당구 수내동 63번지 1호 금산프라자 401호(일부)</td>\n",
       "      <td>경기도 성남시 분당구 내정로166번길 43, 401(일부)호 (수내동, 금산프라자)</td>\n",
       "      <td>씨씨엘의원</td>\n",
       "      <td>의원</td>\n",
       "      <td>1.0</td>\n",
       "      <td>0.0</td>\n",
       "      <td>0.0</td>\n",
       "      <td>내과, 성형외과, 소아청소년과, 이비인후과, 피부과, 가정의학과</td>\n",
       "      <td>37.370357</td>\n",
       "      <td>127.122641</td>\n",
       "    </tr>\n",
       "    <tr>\n",
       "      <th>4</th>\n",
       "      <td>폐업</td>\n",
       "      <td>2004-07-19</td>\n",
       "      <td>2006-07-25</td>\n",
       "      <td>경기도 성남시 분당구 정자동 8번지 4호 태남프라자 508호</td>\n",
       "      <td>경기도 성남시 분당구 정자일로 234, 508호 (정자동, 태남프라자)</td>\n",
       "      <td>S&amp;H(Slim&amp;Health)의원</td>\n",
       "      <td>의원</td>\n",
       "      <td>1.0</td>\n",
       "      <td>0.0</td>\n",
       "      <td>0.0</td>\n",
       "      <td>내과</td>\n",
       "      <td>37.371197</td>\n",
       "      <td>127.106283</td>\n",
       "    </tr>\n",
       "  </tbody>\n",
       "</table>\n",
       "</div>"
      ],
      "text/plain": [
       "  상세영업상태명       인허가일자        폐업일자                                    소재지전체주소  \\\n",
       "0      폐업  2008-09-18  2016-08-22            경기도 성남시분당구 금곡동 158번지 미도프라자 202호   \n",
       "1      폐업  2008-09-23  2013-09-02  경기도 성남시분당구 수내동 83-3번지 돌마소매시장 301호일부, 304호   \n",
       "2      폐업  2012-01-19  2015-05-11               경기도 성남시 분당구  662번지 판교타워 601호   \n",
       "3      폐업  2010-09-20  2017-04-01     경기도 성남시 분당구 수내동 63번지 1호 금산프라자 401호(일부)   \n",
       "4      폐업  2004-07-19  2006-07-25          경기도 성남시 분당구 정자동 8번지 4호 태남프라자 508호   \n",
       "\n",
       "                                          도로명전체주소                사업장명 업태구분명  \\\n",
       "0         경기도 성남시 분당구 성남대로 168, 202호 (금곡동, 미도프라자)         리즈마취통증의학과의원    의원   \n",
       "1     경기도 성남시 분당구 불정로 255, 301,304호 (수내동, 돌마소매시장)            미래정형외과의원    의원   \n",
       "2      경기도 성남시 분당구 판교역로192번길 16, 601호 (삼평동, 판교타워)             S도쿄치과의원  치과의원   \n",
       "3  경기도 성남시 분당구 내정로166번길 43, 401(일부)호 (수내동, 금산프라자)               씨씨엘의원    의원   \n",
       "4         경기도 성남시 분당구 정자일로 234, 508호 (정자동, 태남프라자)  S&H(Slim&Health)의원    의원   \n",
       "\n",
       "   의료인수  입원실수  병상수                                       진료과목내용명         위도  \\\n",
       "0   1.0   0.0  0.0                              내과, 마취통증의학과, 피부과  37.350888   \n",
       "1   1.0   0.0  0.0  내과, 외과, 정형외과, 신경외과, 피부과, 비뇨의학과, 영상의학과, 재활의학과  37.366939   \n",
       "2   1.0   0.0  0.0                                            치과  37.397745   \n",
       "3   1.0   0.0  0.0           내과, 성형외과, 소아청소년과, 이비인후과, 피부과, 가정의학과  37.370357   \n",
       "4   1.0   0.0  0.0                                            내과  37.371197   \n",
       "\n",
       "           경도  \n",
       "0    127.1095  \n",
       "1  127.126393  \n",
       "2  127.111433  \n",
       "3  127.122641  \n",
       "4  127.106283  "
      ]
     },
     "execution_count": 8,
     "metadata": {},
     "output_type": "execute_result"
    }
   ],
   "source": [
    "bundang.head()"
   ]
  },
  {
   "cell_type": "code",
   "execution_count": 17,
   "metadata": {},
   "outputs": [
    {
     "data": {
      "text/html": [
       "<div>\n",
       "<style scoped>\n",
       "    .dataframe tbody tr th:only-of-type {\n",
       "        vertical-align: middle;\n",
       "    }\n",
       "\n",
       "    .dataframe tbody tr th {\n",
       "        vertical-align: top;\n",
       "    }\n",
       "\n",
       "    .dataframe thead th {\n",
       "        text-align: right;\n",
       "    }\n",
       "</style>\n",
       "<table border=\"1\" class=\"dataframe\">\n",
       "  <thead>\n",
       "    <tr style=\"text-align: right;\">\n",
       "      <th></th>\n",
       "      <th>상세영업상태명</th>\n",
       "      <th>인허가일자</th>\n",
       "      <th>폐업일자</th>\n",
       "      <th>소재지전체주소</th>\n",
       "      <th>도로명전체주소</th>\n",
       "      <th>사업장명</th>\n",
       "      <th>업태구분명</th>\n",
       "      <th>의료인수</th>\n",
       "      <th>입원실수</th>\n",
       "      <th>병상수</th>\n",
       "      <th>진료과목내용명</th>\n",
       "      <th>위도</th>\n",
       "      <th>경도</th>\n",
       "    </tr>\n",
       "  </thead>\n",
       "  <tbody>\n",
       "    <tr>\n",
       "      <th>491</th>\n",
       "      <td>폐업</td>\n",
       "      <td>2003-04-01</td>\n",
       "      <td>2010-06-11</td>\n",
       "      <td>경기도 성남시분당구 야탑동 532번지 6호 정우스토아 201호</td>\n",
       "      <td>경기도 성남시 분당구 야탑남로 13, 201호 (야탑동, 정우스토아)</td>\n",
       "      <td>윤재호한의원 (휴업)</td>\n",
       "      <td>한의원</td>\n",
       "      <td>1.0</td>\n",
       "      <td>0.0</td>\n",
       "      <td>0.0</td>\n",
       "      <td>한방내과, 한방소아과, 한방안·이비인후·피부과</td>\n",
       "      <td>None</td>\n",
       "      <td>None</td>\n",
       "    </tr>\n",
       "    <tr>\n",
       "      <th>559</th>\n",
       "      <td>폐업</td>\n",
       "      <td>2003-02-04</td>\n",
       "      <td>2005-03-14</td>\n",
       "      <td>경기도 성남시분당구 야탑동 149번지 10호 테크노프라자 401호</td>\n",
       "      <td>경기도 성남시 분당구 야탑남로 249, 401호 (야탑동, 테크노프라자)</td>\n",
       "      <td>메드플랜병리과의원</td>\n",
       "      <td>의원</td>\n",
       "      <td>1.0</td>\n",
       "      <td>0.0</td>\n",
       "      <td>0.0</td>\n",
       "      <td>내과, 소아청소년과</td>\n",
       "      <td>None</td>\n",
       "      <td>None</td>\n",
       "    </tr>\n",
       "    <tr>\n",
       "      <th>1650</th>\n",
       "      <td>폐업</td>\n",
       "      <td>2000-06-19</td>\n",
       "      <td>2004-09-04</td>\n",
       "      <td>경기도 성남시 분당구 정자동 정든마을 동아아파트 106-201</td>\n",
       "      <td>NaN</td>\n",
       "      <td>소생한의원</td>\n",
       "      <td>한의원</td>\n",
       "      <td>1.0</td>\n",
       "      <td>0.0</td>\n",
       "      <td>0.0</td>\n",
       "      <td>내과, 한방내과, 한방부인과, 한방소아과, 한방안·이비인후·피부과, 한방신경정신과,...</td>\n",
       "      <td>None</td>\n",
       "      <td>None</td>\n",
       "    </tr>\n",
       "  </tbody>\n",
       "</table>\n",
       "</div>"
      ],
      "text/plain": [
       "     상세영업상태명       인허가일자        폐업일자                               소재지전체주소  \\\n",
       "491       폐업  2003-04-01  2010-06-11    경기도 성남시분당구 야탑동 532번지 6호 정우스토아 201호   \n",
       "559       폐업  2003-02-04  2005-03-14  경기도 성남시분당구 야탑동 149번지 10호 테크노프라자 401호   \n",
       "1650      폐업  2000-06-19  2004-09-04    경기도 성남시 분당구 정자동 정든마을 동아아파트 106-201   \n",
       "\n",
       "                                       도로명전체주소         사업장명 업태구분명  의료인수  입원실수  \\\n",
       "491     경기도 성남시 분당구 야탑남로 13, 201호 (야탑동, 정우스토아)  윤재호한의원 (휴업)   한의원   1.0   0.0   \n",
       "559   경기도 성남시 분당구 야탑남로 249, 401호 (야탑동, 테크노프라자)    메드플랜병리과의원    의원   1.0   0.0   \n",
       "1650                                       NaN        소생한의원   한의원   1.0   0.0   \n",
       "\n",
       "      병상수                                            진료과목내용명    위도    경도  \n",
       "491   0.0                          한방내과, 한방소아과, 한방안·이비인후·피부과  None  None  \n",
       "559   0.0                                         내과, 소아청소년과  None  None  \n",
       "1650  0.0  내과, 한방내과, 한방부인과, 한방소아과, 한방안·이비인후·피부과, 한방신경정신과,...  None  None  "
      ]
     },
     "execution_count": 17,
     "metadata": {},
     "output_type": "execute_result"
    }
   ],
   "source": [
    "bundang[bundang['위도'].isna()]"
   ]
  },
  {
   "cell_type": "code",
   "execution_count": 18,
   "metadata": {},
   "outputs": [],
   "source": [
    "bundang.to_csv(\"./dataset_life_infra_분당_의원.csv\")"
   ]
  },
  {
   "cell_type": "code",
   "execution_count": null,
   "metadata": {},
   "outputs": [],
   "source": []
  }
 ],
 "metadata": {
  "kernelspec": {
   "display_name": "tensorflow",
   "language": "python",
   "name": "python3"
  },
  "language_info": {
   "codemirror_mode": {
    "name": "ipython",
    "version": 3
   },
   "file_extension": ".py",
   "mimetype": "text/x-python",
   "name": "python",
   "nbconvert_exporter": "python",
   "pygments_lexer": "ipython3",
   "version": "3.9.19"
  }
 },
 "nbformat": 4,
 "nbformat_minor": 2
}
