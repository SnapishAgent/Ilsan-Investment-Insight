{
 "cells": [
  {
   "cell_type": "markdown",
   "metadata": {},
   "source": [
    "# 주소데이터 기반 데이터셋 전처리\n",
    "- 도로명 주소 기반 위경도 처리"
   ]
  },
  {
   "cell_type": "code",
   "execution_count": 83,
   "metadata": {},
   "outputs": [
    {
     "data": {
      "text/html": [
       "<div>\n",
       "<style scoped>\n",
       "    .dataframe tbody tr th:only-of-type {\n",
       "        vertical-align: middle;\n",
       "    }\n",
       "\n",
       "    .dataframe tbody tr th {\n",
       "        vertical-align: top;\n",
       "    }\n",
       "\n",
       "    .dataframe thead th {\n",
       "        text-align: right;\n",
       "    }\n",
       "</style>\n",
       "<table border=\"1\" class=\"dataframe\">\n",
       "  <thead>\n",
       "    <tr style=\"text-align: right;\">\n",
       "      <th></th>\n",
       "      <th>Unnamed: 0</th>\n",
       "      <th>name</th>\n",
       "      <th>address</th>\n",
       "    </tr>\n",
       "  </thead>\n",
       "  <tbody>\n",
       "    <tr>\n",
       "      <th>0</th>\n",
       "      <td>0</td>\n",
       "      <td>삼성전자</td>\n",
       "      <td>경기도 수원시 영통구 삼성로 129</td>\n",
       "    </tr>\n",
       "    <tr>\n",
       "      <th>1</th>\n",
       "      <td>1</td>\n",
       "      <td>LG에너지솔루션</td>\n",
       "      <td>서울특별시 영등포구 여의대로 108 (여의도동)</td>\n",
       "    </tr>\n",
       "    <tr>\n",
       "      <th>2</th>\n",
       "      <td>2</td>\n",
       "      <td>SK하이닉스</td>\n",
       "      <td>경기도 이천시 부발읍 경충대로 2091 (아미리)</td>\n",
       "    </tr>\n",
       "    <tr>\n",
       "      <th>3</th>\n",
       "      <td>4</td>\n",
       "      <td>NAVER</td>\n",
       "      <td>경기도 성남시 분당구 불정로 6</td>\n",
       "    </tr>\n",
       "    <tr>\n",
       "      <th>4</th>\n",
       "      <td>5</td>\n",
       "      <td>삼성바이오로직스</td>\n",
       "      <td>인천광역시 연수구 송도바이오대로 300</td>\n",
       "    </tr>\n",
       "  </tbody>\n",
       "</table>\n",
       "</div>"
      ],
      "text/plain": [
       "   Unnamed: 0      name                      address\n",
       "0           0      삼성전자          경기도 수원시 영통구 삼성로 129\n",
       "1           1  LG에너지솔루션   서울특별시 영등포구 여의대로 108 (여의도동)\n",
       "2           2    SK하이닉스  경기도 이천시 부발읍 경충대로 2091 (아미리)\n",
       "3           4     NAVER            경기도 성남시 분당구 불정로 6\n",
       "4           5  삼성바이오로직스        인천광역시 연수구 송도바이오대로 300"
      ]
     },
     "execution_count": 83,
     "metadata": {},
     "output_type": "execute_result"
    }
   ],
   "source": [
    "import pandas as pd\n",
    "import requests, json, pprint\n",
    "from tqdm import tqdm\n",
    "from geopy.geocoders import Nominatim\n",
    "\n",
    "geo_local = Nominatim(user_agent='South Korea')\n",
    "\n",
    "data = pd.read_csv(\"./company_info.csv\", encoding='utf-8')\n",
    "data.head()"
   ]
  },
  {
   "cell_type": "code",
   "execution_count": 76,
   "metadata": {},
   "outputs": [
    {
     "data": {
      "text/html": [
       "<div>\n",
       "<style scoped>\n",
       "    .dataframe tbody tr th:only-of-type {\n",
       "        vertical-align: middle;\n",
       "    }\n",
       "\n",
       "    .dataframe tbody tr th {\n",
       "        vertical-align: top;\n",
       "    }\n",
       "\n",
       "    .dataframe thead th {\n",
       "        text-align: right;\n",
       "    }\n",
       "</style>\n",
       "<table border=\"1\" class=\"dataframe\">\n",
       "  <thead>\n",
       "    <tr style=\"text-align: right;\">\n",
       "      <th></th>\n",
       "      <th>name</th>\n",
       "      <th>address</th>\n",
       "      <th>lat</th>\n",
       "      <th>lon</th>\n",
       "    </tr>\n",
       "  </thead>\n",
       "  <tbody>\n",
       "    <tr>\n",
       "      <th>0</th>\n",
       "      <td>LG에너지솔루션</td>\n",
       "      <td>서울특별시 영등포구 여의대로 108 (여의도동)</td>\n",
       "      <td>None</td>\n",
       "      <td>None</td>\n",
       "    </tr>\n",
       "    <tr>\n",
       "      <th>1</th>\n",
       "      <td>LG화학</td>\n",
       "      <td>서울특별시 영등포구 여의대로 128</td>\n",
       "      <td>None</td>\n",
       "      <td>None</td>\n",
       "    </tr>\n",
       "    <tr>\n",
       "      <th>2</th>\n",
       "      <td>현대차</td>\n",
       "      <td>서울특별시 서초구 헌릉로 12(삼성동으로 옮길 예정)</td>\n",
       "      <td>None</td>\n",
       "      <td>None</td>\n",
       "    </tr>\n",
       "    <tr>\n",
       "      <th>3</th>\n",
       "      <td>기아</td>\n",
       "      <td>서울특별시 서초구 헌릉로 12(삼성동으로 옮길 예정)</td>\n",
       "      <td>None</td>\n",
       "      <td>None</td>\n",
       "    </tr>\n",
       "    <tr>\n",
       "      <th>4</th>\n",
       "      <td>KB금융</td>\n",
       "      <td>서울특별시 영등포구 국제금융로8길</td>\n",
       "      <td>None</td>\n",
       "      <td>None</td>\n",
       "    </tr>\n",
       "  </tbody>\n",
       "</table>\n",
       "</div>"
      ],
      "text/plain": [
       "       name                        address   lat   lon\n",
       "0  LG에너지솔루션     서울특별시 영등포구 여의대로 108 (여의도동)  None  None\n",
       "1      LG화학            서울특별시 영등포구 여의대로 128  None  None\n",
       "2       현대차  서울특별시 서초구 헌릉로 12(삼성동으로 옮길 예정)  None  None\n",
       "3        기아  서울특별시 서초구 헌릉로 12(삼성동으로 옮길 예정)  None  None\n",
       "4      KB금융            서울특별시 영등포구 국제금융로8길   None  None"
      ]
     },
     "execution_count": 76,
     "metadata": {},
     "output_type": "execute_result"
    }
   ],
   "source": [
    "data_sort = data[data['address'].str.contains(\"서울\")]\n",
    "data_sort = data_sort[['name', 'address']].reset_index(drop=True)\n",
    "\n",
    "# 'lat'과 'lon' 열 신규생성\n",
    "data_sort['lat'] = None\n",
    "data_sort['lon'] = None\n",
    "\n",
    "data_sort.head()"
   ]
  },
  {
   "cell_type": "code",
   "execution_count": null,
   "metadata": {},
   "outputs": [
    {
     "data": {
      "text/plain": [
       "Location(국제금융로8길, 여의동, 영등포구, 서울특별시, 07332, 대한민국, (37.51941825, 126.92790455, 0.0))"
      ]
     },
     "execution_count": 84,
     "metadata": {},
     "output_type": "execute_result"
    }
   ],
   "source": []
  },
  {
   "cell_type": "code",
   "execution_count": 85,
   "metadata": {},
   "outputs": [
    {
     "name": "stderr",
     "output_type": "stream",
     "text": [
      "4it [00:00, 16.07it/s]"
     ]
    },
    {
     "name": "stdout",
     "output_type": "stream",
     "text": [
      "can't find in kakaoAPI : 서울특별시 영등포구 국제금융로8길 , try in another package\n"
     ]
    },
    {
     "name": "stderr",
     "output_type": "stream",
     "text": [
      "67it [00:05, 12.44it/s]\n"
     ]
    }
   ],
   "source": [
    "# 카카오API를 사용하여 좌표->주소 변환\n",
    "def get_location_kakao(address_data):\n",
    "  url = 'https://dapi.kakao.com/v2/local/search/address.json?query=' + address_data\n",
    "  headers = {\"Authorization\": \"KakaoAK 20953ebae869efd8abdc3657eba800b6\"}\n",
    "  api_json = json.loads(str(requests.get(url,headers=headers).text))\n",
    "  address = api_json['documents'][0]['address']\n",
    "  crd = f\"{str(address['y'])}, {str(address['x'])}\"\n",
    "  \n",
    "  return address, crd\n",
    "\n",
    "def get_location_nominatim(address_data):\n",
    "  geo = geo_local.geocode(address_data)\n",
    "  crd = f\"{str(geo.latitude)}, {str(geo.longitude)}\"\n",
    "  \n",
    "  return crd\n",
    "\n",
    "for idx, i in tqdm(enumerate(range(len(data_sort)))):\n",
    "  try:\n",
    "    _, latlon = get_location_kakao(data_sort['address'][i])\n",
    "    lat, lon = latlon.split(\",\")\n",
    "  \n",
    "  except Exception as e:  # 예외 발생 시 다른 패키지 사용\n",
    "    try:\n",
    "      print(f\"can't find in kakaoAPI : {data_sort['address'][i]}, try in another package\")\n",
    "      latlon = get_location_nominatim(data_sort['address'][i])\n",
    "    \n",
    "    except:\n",
    "      print(f\"SKIP : can't find : {data_sort['address'][i]}\")\n",
    "      lat, lon = None, None  # 좌표를 None으로 설정\n",
    "    \n",
    "  # 좌표 값 유효성 확인 후 데이터 저장\n",
    "  if lat is not None and lon is not None:\n",
    "      data_sort.at[i, 'lat'] = lat\n",
    "      data_sort.at[i, 'lon'] = lon"
   ]
  },
  {
   "cell_type": "code",
   "execution_count": 87,
   "metadata": {},
   "outputs": [],
   "source": [
    "data_sort.to_csv(\"./conpany_info_lonlat_add.csv\")"
   ]
  },
  {
   "cell_type": "markdown",
   "metadata": {},
   "source": [
    "# 데이터 별 구역 확인\n",
    "- 100대 기업의 주소를 기반으로, 회사가 밀집되어있는 구역 5개 선정\n",
    "- 해당 구역 기반으로 진행예정"
   ]
  },
  {
   "cell_type": "code",
   "execution_count": 88,
   "metadata": {},
   "outputs": [
    {
     "data": {
      "text/html": [
       "<div>\n",
       "<style scoped>\n",
       "    .dataframe tbody tr th:only-of-type {\n",
       "        vertical-align: middle;\n",
       "    }\n",
       "\n",
       "    .dataframe tbody tr th {\n",
       "        vertical-align: top;\n",
       "    }\n",
       "\n",
       "    .dataframe thead th {\n",
       "        text-align: right;\n",
       "    }\n",
       "</style>\n",
       "<table border=\"1\" class=\"dataframe\">\n",
       "  <thead>\n",
       "    <tr style=\"text-align: right;\">\n",
       "      <th></th>\n",
       "      <th>name</th>\n",
       "      <th>address</th>\n",
       "      <th>lat</th>\n",
       "      <th>lon</th>\n",
       "    </tr>\n",
       "  </thead>\n",
       "  <tbody>\n",
       "    <tr>\n",
       "      <th>0</th>\n",
       "      <td>LG에너지솔루션</td>\n",
       "      <td>서울특별시 영등포구 여의대로 108 (여의도동)</td>\n",
       "      <td>37.5251913154781</td>\n",
       "      <td>126.929112756574</td>\n",
       "    </tr>\n",
       "    <tr>\n",
       "      <th>1</th>\n",
       "      <td>LG화학</td>\n",
       "      <td>서울특별시 영등포구 여의대로 128</td>\n",
       "      <td>37.5279271045092</td>\n",
       "      <td>126.929241174348</td>\n",
       "    </tr>\n",
       "    <tr>\n",
       "      <th>2</th>\n",
       "      <td>현대차</td>\n",
       "      <td>서울특별시 서초구 헌릉로 12(삼성동으로 옮길 예정)</td>\n",
       "      <td>37.4643623227152</td>\n",
       "      <td>127.042663599215</td>\n",
       "    </tr>\n",
       "    <tr>\n",
       "      <th>3</th>\n",
       "      <td>기아</td>\n",
       "      <td>서울특별시 서초구 헌릉로 12(삼성동으로 옮길 예정)</td>\n",
       "      <td>37.4643623227152</td>\n",
       "      <td>127.042663599215</td>\n",
       "    </tr>\n",
       "    <tr>\n",
       "      <th>4</th>\n",
       "      <td>KB금융</td>\n",
       "      <td>서울특별시 영등포구 국제금융로8길</td>\n",
       "      <td>37.4643623227152</td>\n",
       "      <td>127.042663599215</td>\n",
       "    </tr>\n",
       "    <tr>\n",
       "      <th>...</th>\n",
       "      <td>...</td>\n",
       "      <td>...</td>\n",
       "      <td>...</td>\n",
       "      <td>...</td>\n",
       "    </tr>\n",
       "    <tr>\n",
       "      <th>62</th>\n",
       "      <td>아모레G</td>\n",
       "      <td>서울특별시 용산구 한강대로 100 아모레퍼시픽</td>\n",
       "      <td>37.5287911785354</td>\n",
       "      <td>126.968673565462</td>\n",
       "    </tr>\n",
       "    <tr>\n",
       "      <th>63</th>\n",
       "      <td>NH투자증권</td>\n",
       "      <td>서울특별시 영등포구 여의대로 108 파크원 NH금융타워(타워2)</td>\n",
       "      <td>37.5251913154781</td>\n",
       "      <td>126.929112756574</td>\n",
       "    </tr>\n",
       "    <tr>\n",
       "      <th>64</th>\n",
       "      <td>GS건설</td>\n",
       "      <td>서울특별시 종로구 종로 33 그랑서울</td>\n",
       "      <td>37.5709617749066</td>\n",
       "      <td>126.981437983842</td>\n",
       "    </tr>\n",
       "    <tr>\n",
       "      <th>65</th>\n",
       "      <td>KCC</td>\n",
       "      <td>서울특별시 서초구 사평대로 344</td>\n",
       "      <td>37.5029945221484</td>\n",
       "      <td>127.020802535605</td>\n",
       "    </tr>\n",
       "    <tr>\n",
       "      <th>66</th>\n",
       "      <td>HLB</td>\n",
       "      <td>서울특별시 강남구 테헤란로 420 메이플타워 15층</td>\n",
       "      <td>37.5051452726841</td>\n",
       "      <td>127.052558161135</td>\n",
       "    </tr>\n",
       "  </tbody>\n",
       "</table>\n",
       "<p>67 rows × 4 columns</p>\n",
       "</div>"
      ],
      "text/plain": [
       "        name                              address               lat  \\\n",
       "0   LG에너지솔루션           서울특별시 영등포구 여의대로 108 (여의도동)  37.5251913154781   \n",
       "1       LG화학                  서울특별시 영등포구 여의대로 128  37.5279271045092   \n",
       "2        현대차        서울특별시 서초구 헌릉로 12(삼성동으로 옮길 예정)  37.4643623227152   \n",
       "3         기아        서울특별시 서초구 헌릉로 12(삼성동으로 옮길 예정)  37.4643623227152   \n",
       "4       KB금융                  서울특별시 영등포구 국제금융로8길   37.4643623227152   \n",
       "..       ...                                  ...               ...   \n",
       "62      아모레G            서울특별시 용산구 한강대로 100 아모레퍼시픽  37.5287911785354   \n",
       "63    NH투자증권  서울특별시 영등포구 여의대로 108 파크원 NH금융타워(타워2)  37.5251913154781   \n",
       "64      GS건설                 서울특별시 종로구 종로 33 그랑서울  37.5709617749066   \n",
       "65       KCC                   서울특별시 서초구 사평대로 344  37.5029945221484   \n",
       "66       HLB         서울특별시 강남구 테헤란로 420 메이플타워 15층  37.5051452726841   \n",
       "\n",
       "                  lon  \n",
       "0    126.929112756574  \n",
       "1    126.929241174348  \n",
       "2    127.042663599215  \n",
       "3    127.042663599215  \n",
       "4    127.042663599215  \n",
       "..                ...  \n",
       "62   126.968673565462  \n",
       "63   126.929112756574  \n",
       "64   126.981437983842  \n",
       "65   127.020802535605  \n",
       "66   127.052558161135  \n",
       "\n",
       "[67 rows x 4 columns]"
      ]
     },
     "metadata": {},
     "output_type": "display_data"
    }
   ],
   "source": [
    "display(data_sort)"
   ]
  },
  {
   "cell_type": "code",
   "execution_count": 90,
   "metadata": {},
   "outputs": [],
   "source": [
    "data_sort['zone_split'] = data_sort['address'].apply(lambda x : x.split(\" \")[1])"
   ]
  },
  {
   "cell_type": "code",
   "execution_count": 95,
   "metadata": {},
   "outputs": [
    {
     "data": {
      "image/png": "[encoded data removed]",
      "text/plain": [
       "<Figure size 1000x600 with 1 Axes>"
      ]
     },
     "metadata": {},
     "output_type": "display_data"
    }
   ],
   "source": [
    "import pandas as pd\n",
    "import matplotlib.pyplot as plt\n",
    "from matplotlib import rc\n",
    "import platform\n",
    "\n",
    "platform.system() == \"Darwin\"\n",
    "rc('font', family='AppleGothic')  # macOS: 애플고딕\n",
    "\n",
    "zone_counts = data_sort['zone_split'].value_counts()\n",
    "\n",
    "# 시각화\n",
    "plt.figure(figsize=(10, 6))\n",
    "zone_counts.plot(kind='bar', color='skyblue', edgecolor='black')\n",
    "plt.title('지역구별 빈도수', fontsize=16)\n",
    "plt.xlabel('지역구', fontsize=14)\n",
    "plt.ylabel('빈도수', fontsize=14)\n",
    "plt.xticks(rotation=45, fontsize=12)\n",
    "plt.tight_layout()\n",
    "plt.show()"
   ]
  }
 ],
 "metadata": {
  "kernelspec": {
   "display_name": "tensorflow",
   "language": "python",
   "name": "python3"
  },
  "language_info": {
   "codemirror_mode": {
    "name": "ipython",
    "version": 3
   },
   "file_extension": ".py",
   "mimetype": "text/x-python",
   "name": "python",
   "nbconvert_exporter": "python",
   "pygments_lexer": "ipython3",
   "version": "3.9.19"
  }
 },
 "nbformat": 4,
 "nbformat_minor": 2
}
